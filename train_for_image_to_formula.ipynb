{
  "nbformat": 4,
  "nbformat_minor": 0,
  "metadata": {
    "kernelspec": {
      "display_name": "Python 3",
      "language": "python",
      "name": "python3"
    },
    "language_info": {
      "codemirror_mode": {
        "name": "ipython",
        "version": 3
      },
      "file_extension": ".py",
      "mimetype": "text/x-python",
      "name": "python",
      "nbconvert_exporter": "python",
      "pygments_lexer": "ipython3",
      "version": "3.8.2"
    },
    "colab": {
      "name": "1 - Sequence to Sequence Learning with Neural Networks.ipynb",
      "provenance": [],
      "include_colab_link": true
    },
    "accelerator": "GPU"
  },
  "cells": [
    {
      "cell_type": "markdown",
      "metadata": {
        "id": "view-in-github",
        "colab_type": "text"
      },
      "source": [
        "<a href=\"https://colab.research.google.com/github/vasiliyeskin/crnn_seq2seq_ocr_pytorch/blob/master/train_for_image_to_formula.ipynb\" target=\"_parent\"><img src=\"https://colab.research.google.com/assets/colab-badge.svg\" alt=\"Open In Colab\"/></a>"
      ]
    },
    {
      "cell_type": "code",
      "metadata": {
        "id": "79WptoUd7asD",
        "outputId": "903cb513-ac20-45be-8bea-e2d194651dd6",
        "colab": {
          "base_uri": "https://localhost:8080/",
          "height": 139
        }
      },
      "source": [
        "!git clone https://github.com/vasiliyeskin/crnn_seq2seq_ocr_pytorch.git"
      ],
      "execution_count": 1,
      "outputs": [
        {
          "output_type": "stream",
          "text": [
            "Cloning into 'crnn_seq2seq_ocr_pytorch'...\n",
            "remote: Enumerating objects: 2514, done.\u001b[K\n",
            "remote: Counting objects: 100% (2514/2514), done.\u001b[K\n",
            "remote: Compressing objects: 100% (1553/1553), done.\u001b[K\n",
            "remote: Total 2689 (delta 998), reused 2458 (delta 961), pack-reused 175\u001b[K\n",
            "Receiving objects: 100% (2689/2689), 54.01 MiB | 41.21 MiB/s, done.\n",
            "Resolving deltas: 100% (1090/1090), done.\n"
          ],
          "name": "stdout"
        }
      ]
    },
    {
      "cell_type": "code",
      "metadata": {
        "id": "ITDpQNRCK6TX",
        "outputId": "3a16c462-d7f3-43e9-9141-d477b66a9643",
        "colab": {
          "base_uri": "https://localhost:8080/",
          "height": 34
        }
      },
      "source": [
        "%cd crnn_seq2seq_ocr_pytorch"
      ],
      "execution_count": 2,
      "outputs": [
        {
          "output_type": "stream",
          "text": [
            "/content/crnn_seq2seq_ocr_pytorch\n"
          ],
          "name": "stdout"
        }
      ]
    },
    {
      "cell_type": "code",
      "metadata": {
        "id": "X5yRjYgRLr1q",
        "outputId": "a6cfa186-fa09-4cdb-b88d-b41e45cc3d0f",
        "colab": {
          "base_uri": "https://localhost:8080/",
          "height": 69
        }
      },
      "source": [
        "!ls"
      ],
      "execution_count": 3,
      "outputs": [
        {
          "output_type": "stream",
          "text": [
            "crnn\t      model\t\tsrc\t\t\t\t  train.py\n",
            "data\t      README.md\t\ttrain_for_image_to_formula.ipynb\n",
            "inference.py  requirements.txt\ttrain_im2latex.py\n"
          ],
          "name": "stdout"
        }
      ]
    },
    {
      "cell_type": "code",
      "metadata": {
        "id": "p8ZKrkvskqfw",
        "outputId": "8fb9eca9-fa72-4c35-9f22-0b547e2c254a",
        "colab": {
          "base_uri": "https://localhost:8080/",
          "height": 173
        }
      },
      "source": [
        "!pip install tensorboardX"
      ],
      "execution_count": 5,
      "outputs": [
        {
          "output_type": "stream",
          "text": [
            "Collecting tensorboardX\n",
            "\u001b[?25l  Downloading https://files.pythonhosted.org/packages/af/0c/4f41bcd45db376e6fe5c619c01100e9b7531c55791b7244815bac6eac32c/tensorboardX-2.1-py2.py3-none-any.whl (308kB)\n",
            "\r\u001b[K     |█                               | 10kB 25.1MB/s eta 0:00:01\r\u001b[K     |██▏                             | 20kB 11.3MB/s eta 0:00:01\r\u001b[K     |███▏                            | 30kB 13.4MB/s eta 0:00:01\r\u001b[K     |████▎                           | 40kB 10.5MB/s eta 0:00:01\r\u001b[K     |█████▎                          | 51kB 9.8MB/s eta 0:00:01\r\u001b[K     |██████▍                         | 61kB 9.7MB/s eta 0:00:01\r\u001b[K     |███████▍                        | 71kB 9.7MB/s eta 0:00:01\r\u001b[K     |████████▌                       | 81kB 9.7MB/s eta 0:00:01\r\u001b[K     |█████████▌                      | 92kB 9.8MB/s eta 0:00:01\r\u001b[K     |██████████▋                     | 102kB 10.1MB/s eta 0:00:01\r\u001b[K     |███████████▊                    | 112kB 10.1MB/s eta 0:00:01\r\u001b[K     |████████████▊                   | 122kB 10.1MB/s eta 0:00:01\r\u001b[K     |█████████████▉                  | 133kB 10.1MB/s eta 0:00:01\r\u001b[K     |██████████████▉                 | 143kB 10.1MB/s eta 0:00:01\r\u001b[K     |████████████████                | 153kB 10.1MB/s eta 0:00:01\r\u001b[K     |█████████████████               | 163kB 10.1MB/s eta 0:00:01\r\u001b[K     |██████████████████              | 174kB 10.1MB/s eta 0:00:01\r\u001b[K     |███████████████████             | 184kB 10.1MB/s eta 0:00:01\r\u001b[K     |████████████████████▏           | 194kB 10.1MB/s eta 0:00:01\r\u001b[K     |█████████████████████▎          | 204kB 10.1MB/s eta 0:00:01\r\u001b[K     |██████████████████████▎         | 215kB 10.1MB/s eta 0:00:01\r\u001b[K     |███████████████████████▍        | 225kB 10.1MB/s eta 0:00:01\r\u001b[K     |████████████████████████▍       | 235kB 10.1MB/s eta 0:00:01\r\u001b[K     |█████████████████████████▌      | 245kB 10.1MB/s eta 0:00:01\r\u001b[K     |██████████████████████████▌     | 256kB 10.1MB/s eta 0:00:01\r\u001b[K     |███████████████████████████▋    | 266kB 10.1MB/s eta 0:00:01\r\u001b[K     |████████████████████████████▋   | 276kB 10.1MB/s eta 0:00:01\r\u001b[K     |█████████████████████████████▊  | 286kB 10.1MB/s eta 0:00:01\r\u001b[K     |██████████████████████████████▊ | 296kB 10.1MB/s eta 0:00:01\r\u001b[K     |███████████████████████████████▉| 307kB 10.1MB/s eta 0:00:01\r\u001b[K     |████████████████████████████████| 317kB 10.1MB/s \n",
            "\u001b[?25hRequirement already satisfied: numpy in /usr/local/lib/python3.6/dist-packages (from tensorboardX) (1.18.5)\n",
            "Requirement already satisfied: protobuf>=3.8.0 in /usr/local/lib/python3.6/dist-packages (from tensorboardX) (3.12.4)\n",
            "Requirement already satisfied: six in /usr/local/lib/python3.6/dist-packages (from tensorboardX) (1.15.0)\n",
            "Requirement already satisfied: setuptools in /usr/local/lib/python3.6/dist-packages (from protobuf>=3.8.0->tensorboardX) (50.3.0)\n",
            "Installing collected packages: tensorboardX\n",
            "Successfully installed tensorboardX-2.1\n"
          ],
          "name": "stdout"
        }
      ]
    },
    {
      "cell_type": "code",
      "metadata": {
        "id": "G24wRwNKLuFI",
        "outputId": "2197c6d2-e97b-413b-9bc5-27049b3725d0",
        "colab": {
          "base_uri": "https://localhost:8080/",
          "height": 1000
        }
      },
      "source": [
        "!python train_im2latex.py"
      ],
      "execution_count": 6,
      "outputs": [
        {
          "output_type": "stream",
          "text": [
            "Namespace(batch_size=32, decoder='', encoder='', eval_list='data/sample/validate_filter.lst', hidden_size=256, img_height=32, img_width=280, learning_rate=0.0001, max_width=71, model='./model/im2latex/', num_epochs=2, num_workers=4, random_sample=True, teaching_forcing_prob=0.5, train_list='data/sample/train_filter.lst')\n",
            "Encoder(\n",
            "  (cnn): CNN(\n",
            "    (cnn): Sequential(\n",
            "      (0): Conv2d(3, 64, kernel_size=(3, 3), stride=(1, 1), padding=(1, 1))\n",
            "      (1): ReLU(inplace=True)\n",
            "      (2): MaxPool2d(kernel_size=2, stride=2, padding=0, dilation=1, ceil_mode=False)\n",
            "      (3): Conv2d(64, 128, kernel_size=(3, 3), stride=(1, 1), padding=(1, 1))\n",
            "      (4): ReLU(inplace=True)\n",
            "      (5): MaxPool2d(kernel_size=2, stride=2, padding=0, dilation=1, ceil_mode=False)\n",
            "      (6): Conv2d(128, 256, kernel_size=(3, 3), stride=(1, 1), padding=(1, 1))\n",
            "      (7): BatchNorm2d(256, eps=1e-05, momentum=0.1, affine=True, track_running_stats=True)\n",
            "      (8): ReLU(inplace=True)\n",
            "      (9): Conv2d(256, 256, kernel_size=(3, 3), stride=(1, 1), padding=(1, 1))\n",
            "      (10): ReLU(inplace=True)\n",
            "      (11): MaxPool2d(kernel_size=(2, 2), stride=(2, 1), padding=(0, 1), dilation=1, ceil_mode=False)\n",
            "      (12): Conv2d(256, 512, kernel_size=(3, 3), stride=(1, 1), padding=(1, 1))\n",
            "      (13): BatchNorm2d(512, eps=1e-05, momentum=0.1, affine=True, track_running_stats=True)\n",
            "      (14): ReLU(inplace=True)\n",
            "      (15): Conv2d(512, 512, kernel_size=(3, 3), stride=(1, 1), padding=(1, 1))\n",
            "      (16): ReLU(inplace=True)\n",
            "      (17): MaxPool2d(kernel_size=(2, 2), stride=(2, 1), padding=(0, 1), dilation=1, ceil_mode=False)\n",
            "      (18): Conv2d(512, 512, kernel_size=(2, 2), stride=(1, 1))\n",
            "      (19): BatchNorm2d(512, eps=1e-05, momentum=0.1, affine=True, track_running_stats=True)\n",
            "      (20): ReLU(inplace=True)\n",
            "    )\n",
            "  )\n",
            "  (rnn): Sequential(\n",
            "    (0): BidirectionalLSTM(\n",
            "      (rnn): LSTM(512, 256, bidirectional=True)\n",
            "      (embedding): Linear(in_features=512, out_features=256, bias=True)\n",
            "    )\n",
            "    (1): BidirectionalLSTM(\n",
            "      (rnn): LSTM(256, 256, bidirectional=True)\n",
            "      (embedding): Linear(in_features=512, out_features=256, bias=True)\n",
            "    )\n",
            "  )\n",
            ")\n",
            "Decoder(\n",
            "  (decoder): AttnDecoderRNN(\n",
            "    (embedding): Embedding(255, 256)\n",
            "    (attn): Linear(in_features=512, out_features=71, bias=True)\n",
            "    (attn_combine): Linear(in_features=512, out_features=256, bias=True)\n",
            "    (dropout): Dropout(p=0.1, inplace=False)\n",
            "    (gru): GRU(256, 256)\n",
            "    (out): Linear(in_features=256, out_features=255, bias=True)\n",
            "  )\n",
            ")\n",
            "[Epoch 1/2] [Batch 1/29] Loss: 800.56884765625\n",
            "[Epoch 1/2] [Batch 2/29] Loss: 721.081787109375\n",
            "[Epoch 1/2] [Batch 3/29] Loss: 762.50634765625\n",
            "[Epoch 1/2] [Batch 4/29] Loss: 755.0850830078125\n",
            "[Epoch 1/2] [Batch 5/29] Loss: 751.0198364257812\n",
            "[Epoch 1/2] [Batch 6/29] Loss: 651.4436645507812\n",
            "[Epoch 1/2] [Batch 7/29] Loss: 731.2572021484375\n",
            "[Epoch 1/2] [Batch 8/29] Loss: 555.7332763671875\n",
            "[Epoch 1/2] [Batch 9/29] Loss: 547.7735595703125\n",
            "[Epoch 1/2] [Batch 10/29] Loss: 647.2569580078125\n",
            "[Epoch 1/2] [Batch 11/29] Loss: 449.2520446777344\n",
            "[Epoch 1/2] [Batch 12/29] Loss: 585.2568969726562\n",
            "[Epoch 1/2] [Batch 13/29] Loss: 537.5977172851562\n",
            "[Epoch 1/2] [Batch 14/29] Loss: 608.087158203125\n",
            "[Epoch 1/2] [Batch 15/29] Loss: 550.6302490234375\n",
            "[Epoch 1/2] [Batch 16/29] Loss: 447.8550109863281\n",
            "[Epoch 1/2] [Batch 17/29] Loss: 455.9698791503906\n",
            "[Epoch 1/2] [Batch 18/29] Loss: 454.6272277832031\n",
            "[Epoch 1/2] [Batch 19/29] Loss: 358.24420166015625\n",
            "[Epoch 1/2] [Batch 20/29] Loss: 448.3056945800781\n",
            "[Epoch 1/2] [Batch 21/29] Loss: 394.57818603515625\n",
            "[Epoch 1/2] [Batch 22/29] Loss: 405.801513671875\n",
            "[Epoch 1/2] [Batch 23/29] Loss: 396.4853820800781\n",
            "[Epoch 1/2] [Batch 24/29] Loss: 328.59613037109375\n",
            "[Epoch 1/2] [Batch 25/29] Loss: 326.16510009765625\n",
            "[Epoch 1/2] [Batch 26/29] Loss: 440.0627746582031\n",
            "[Epoch 1/2] [Batch 27/29] Loss: 367.03179931640625\n",
            "[Epoch 1/2] [Batch 28/29] Loss: 350.2232360839844\n",
            "[Epoch 1/2] [Batch 29/29] Loss: 609.4105834960938\n",
            "[Epoch 2/2] [Batch 1/29] Loss: 354.8471374511719\n",
            "[Epoch 2/2] [Batch 2/29] Loss: 338.9843444824219\n",
            "[Epoch 2/2] [Batch 3/29] Loss: 353.10205078125\n",
            "[Epoch 2/2] [Batch 4/29] Loss: 292.03240966796875\n",
            "[Epoch 2/2] [Batch 5/29] Loss: 375.3282165527344\n",
            "[Epoch 2/2] [Batch 6/29] Loss: 349.16705322265625\n",
            "[Epoch 2/2] [Batch 7/29] Loss: 350.2591247558594\n",
            "[Epoch 2/2] [Batch 8/29] Loss: 360.943603515625\n",
            "[Epoch 2/2] [Batch 9/29] Loss: 329.21563720703125\n",
            "[Epoch 2/2] [Batch 10/29] Loss: 297.98455810546875\n",
            "[Epoch 2/2] [Batch 11/29] Loss: 281.8668212890625\n",
            "[Epoch 2/2] [Batch 12/29] Loss: 286.5516662597656\n",
            "[Epoch 2/2] [Batch 13/29] Loss: 377.8364562988281\n",
            "[Epoch 2/2] [Batch 14/29] Loss: 393.1234130859375\n",
            "[Epoch 2/2] [Batch 15/29] Loss: 307.3812561035156\n",
            "[Epoch 2/2] [Batch 16/29] Loss: 265.61395263671875\n",
            "[Epoch 2/2] [Batch 17/29] Loss: 267.278076171875\n",
            "[Epoch 2/2] [Batch 18/29] Loss: 343.2084655761719\n",
            "[Epoch 2/2] [Batch 19/29] Loss: 307.2500915527344\n",
            "[Epoch 2/2] [Batch 20/29] Loss: 242.46255493164062\n",
            "[Epoch 2/2] [Batch 21/29] Loss: 348.16998291015625\n",
            "[Epoch 2/2] [Batch 22/29] Loss: 277.5499572753906\n",
            "[Epoch 2/2] [Batch 23/29] Loss: 300.08416748046875\n",
            "[Epoch 2/2] [Batch 24/29] Loss: 302.7217102050781\n",
            "[Epoch 2/2] [Batch 25/29] Loss: 292.4450988769531\n",
            "[Epoch 2/2] [Batch 26/29] Loss: 321.6085205078125\n",
            "[Epoch 2/2] [Batch 27/29] Loss: 254.21441650390625\n",
            "[Epoch 2/2] [Batch 28/29] Loss: 312.1088562011719\n",
            "[Epoch 2/2] [Batch 29/29] Loss: 321.8045349121094\n",
            "pred 0: {{{{{{{{{{{{{{{{{{{{{{{{{{{{{{{{{}}}}}}}}}}}}}}}}}}}}}}}}}}}}}}}}}}}}}}}}}}}}}}}}}}}}}}}}}}}}}}}}}}}}}}}}}}}}}}}}\n",
            "gt 0: \\int _ { - \\epsilon } ^ { \\infty } d l \\: \\mathrm { e } ^ { - l \\zeta } \\int _ { - \\epsilon } ^ { \\infty } d l ^ { \\prime } \\mathrm { e } ^ { - l ^ { \\prime } \\zeta } l l ^ { \\prime } { \\frac { l ^ { \\prime } - l } { l + l ^ { \\prime } } } \\{ 3 \\, \\delta ^ { \\prime \\prime } ( l ) - { \\frac { 3 } { 4 } } t \\, \\delta ( l ) \\} = 0 .\n",
            "pred 10: {{{{{{{{{{{{{{{{{{{{{{{{{{{{{{{{{{}}\n",
            "gt 10: \\varphi ^ { \\prime \\prime } + { \\frac { 1 } { r } } \\varphi ^ { \\prime } + \\lambda \\left( \\varphi - \\varphi ^ { 3 } \\right) = 0 ,\n",
            "pred 20: {{{{{{{{{{{{{{{{{{{{{{{{{{{{{{{{{{}}}}}}}}}}}}}}}}}\n",
            "gt 20: ( R _ { a b } R ^ { a b } - \\frac { n } { 4 ( n - 1 ) } R ^ { 2 } ) \\phi ^ { \\frac { 2 ( n - 4 ) } { n - 2 } }\n",
            "pred 30: {{{{{{{{{{{{{{{{{{{{{{{{{{{{{{{{{{{}}}}}}\n",
            "gt 30: { \\frac { \\partial \\bar { g } _ { \\mu \\nu } } { \\partial l _ { i } } } \\in \\mathrm { K e r } ( \\bar { F } ^ { \\dagger } )\n",
            "pred 40: {{{{{{{{{{{{{{{{{{{{{{{{{{{{{{{{{{}}}}}}\n",
            "gt 40: \\Phi ^ { i } = \\frac { 1 } { 2 } \\pi ^ { i } - \\int d u \\; \\; \\epsilon ( x - u ) \\; \\theta ^ { i } ( u )\n",
            "pred 50: {{{{{{{{{{{{{{{{{{{{{{{{{{{{{{{{{\n",
            "gt 50: M _ { P } ^ { 2 } = M _ { s } ^ { 3 } \\int d z e ^ { - 2 \\sigma ( z ) }\n",
            "pred 60: {{{{{{{{{{{{{{{{{{{{{{{{{{{{{{{{{{}}}}}}}}}}}}}}}}}}}}}}}}}}}}}}}}}}}}}}}\n",
            "gt 60: m _ { C } ^ { 2 } = \\langle g ^ { 2 } A _ { \\mu } ^ { a } A _ { \\mu } ^ { a } \\rangle + \\left( { \\frac { 1 } { 2 } } \\alpha + \\beta \\right) \\langle i g ^ { 2 } \\bar { C } ^ { a } C ^ { a } \\rangle .\n",
            "pred 70: {{{{{{{{{{{{{{{{{{{{{{{{{{{{{{{{{{}}}\n",
            "gt 70: J ( x , y , M ) = \\mathrm { t r } \\left\\langle x \\left| \\Gamma _ { 5 } \\Gamma \\frac { 1 } { \\Theta + M } \\right| y \\right\\rangle .\n",
            "pred 80: {{{{{{{{{{{{{{{{{{{{{{{{{{{{{{{{{{}}}}}}}}}}}}}}}}}}}}}}}}}}}}}}}}}}}}}}}}}}}}}}}}}}}}}}}\n",
            "gt 80: \\int _ { - \\infty } ^ { \\infty } \\frac { d x } { ( \\gamma + x ^ { 2 } ) ( \\delta + x ^ { 2 } ) } = \\frac { \\pi } { \\sqrt { \\gamma \\delta } ( \\sqrt { \\gamma } + \\sqrt { \\delta } ) } = \\frac { \\pi } { \\sqrt { \\gamma \\delta } } \\frac { \\sqrt { \\delta } - \\sqrt { \\gamma } } { \\delta - \\gamma } ,\n",
            "Test loss: 0, accuray: 0.065883593102929\n"
          ],
          "name": "stdout"
        }
      ]
    }
  ]
}