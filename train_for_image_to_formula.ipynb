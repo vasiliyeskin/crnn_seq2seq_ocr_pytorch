{
  "nbformat": 4,
  "nbformat_minor": 0,
  "metadata": {
    "kernelspec": {
      "display_name": "Python 3",
      "language": "python",
      "name": "python3"
    },
    "language_info": {
      "codemirror_mode": {
        "name": "ipython",
        "version": 3
      },
      "file_extension": ".py",
      "mimetype": "text/x-python",
      "name": "python",
      "nbconvert_exporter": "python",
      "pygments_lexer": "ipython3",
      "version": "3.8.2"
    },
    "colab": {
      "name": "1 - Sequence to Sequence Learning with Neural Networks.ipynb",
      "provenance": [],
      "include_colab_link": true
    },
    "accelerator": "GPU"
  },
  "cells": [
    {
      "cell_type": "markdown",
      "metadata": {
        "id": "view-in-github",
        "colab_type": "text"
      },
      "source": [
        "<a href=\"https://colab.research.google.com/github/vasiliyeskin/crnn_seq2seq_ocr_pytorch/blob/master/train_for_image_to_formula.ipynb\" target=\"_parent\"><img src=\"https://colab.research.google.com/assets/colab-badge.svg\" alt=\"Open In Colab\"/></a>"
      ]
    },
    {
      "cell_type": "code",
      "metadata": {
        "id": "79WptoUd7asD",
        "outputId": "bbc0be39-0dd6-43f5-f45c-e926a95056de",
        "colab": {
          "base_uri": "https://localhost:8080/",
          "height": 34
        }
      },
      "source": [
        "!git clone https://github.com/vasiliyeskin/crnn_seq2seq_ocr_pytorch.git"
      ],
      "execution_count": 5,
      "outputs": [
        {
          "output_type": "stream",
          "text": [
            "fatal: destination path 'crnn_seq2seq_ocr_pytorch' already exists and is not an empty directory.\n"
          ],
          "name": "stdout"
        }
      ]
    },
    {
      "cell_type": "code",
      "metadata": {
        "id": "ITDpQNRCK6TX",
        "outputId": "d12482a1-6fea-47ef-f296-95e2726dc989",
        "colab": {
          "base_uri": "https://localhost:8080/",
          "height": 34
        }
      },
      "source": [
        "%cd crnn_seq2seq_ocr_pytorch"
      ],
      "execution_count": 11,
      "outputs": [
        {
          "output_type": "stream",
          "text": [
            "/content/crnn_seq2seq_ocr_pytorch\n"
          ],
          "name": "stdout"
        }
      ]
    },
    {
      "cell_type": "code",
      "metadata": {
        "id": "X5yRjYgRLr1q",
        "outputId": "22575595-ab0f-4622-b8f3-662f46d4d5e1",
        "colab": {
          "base_uri": "https://localhost:8080/",
          "height": 69
        }
      },
      "source": [
        "!ls"
      ],
      "execution_count": 12,
      "outputs": [
        {
          "output_type": "stream",
          "text": [
            "crnn\t      model\t\tsrc\t\t\t\t  train.py\n",
            "data\t      README.md\t\ttrain_for_image_to_formula.ipynb\n",
            "inference.py  requirements.txt\ttrain_im2latex.py\n"
          ],
          "name": "stdout"
        }
      ]
    },
    {
      "cell_type": "code",
      "metadata": {
        "id": "G24wRwNKLuFI",
        "outputId": "b8e84f99-b5ba-4f9d-9456-fa31fc1050fd",
        "colab": {
          "base_uri": "https://localhost:8080/",
          "height": 1000
        }
      },
      "source": [
        "!python train_im2latex.py"
      ],
      "execution_count": 14,
      "outputs": [
        {
          "output_type": "stream",
          "text": [
            "Namespace(batch_size=32, decoder='', encoder='', eval_list='data/sample/validate_filter.lst', hidden_size=256, img_height=32, img_width=280, learning_rate=0.0001, max_width=71, model='./model/im2latex/', num_epochs=2, num_workers=4, random_sample=True, teaching_forcing_prob=0.5, train_list='data/sample/train_filter.lst')\n",
            "Encoder(\n",
            "  (cnn): CNN(\n",
            "    (cnn): Sequential(\n",
            "      (0): Conv2d(3, 64, kernel_size=(3, 3), stride=(1, 1), padding=(1, 1))\n",
            "      (1): ReLU(inplace=True)\n",
            "      (2): MaxPool2d(kernel_size=2, stride=2, padding=0, dilation=1, ceil_mode=False)\n",
            "      (3): Conv2d(64, 128, kernel_size=(3, 3), stride=(1, 1), padding=(1, 1))\n",
            "      (4): ReLU(inplace=True)\n",
            "      (5): MaxPool2d(kernel_size=2, stride=2, padding=0, dilation=1, ceil_mode=False)\n",
            "      (6): Conv2d(128, 256, kernel_size=(3, 3), stride=(1, 1), padding=(1, 1))\n",
            "      (7): BatchNorm2d(256, eps=1e-05, momentum=0.1, affine=True, track_running_stats=True)\n",
            "      (8): ReLU(inplace=True)\n",
            "      (9): Conv2d(256, 256, kernel_size=(3, 3), stride=(1, 1), padding=(1, 1))\n",
            "      (10): ReLU(inplace=True)\n",
            "      (11): MaxPool2d(kernel_size=(2, 2), stride=(2, 1), padding=(0, 1), dilation=1, ceil_mode=False)\n",
            "      (12): Conv2d(256, 512, kernel_size=(3, 3), stride=(1, 1), padding=(1, 1))\n",
            "      (13): BatchNorm2d(512, eps=1e-05, momentum=0.1, affine=True, track_running_stats=True)\n",
            "      (14): ReLU(inplace=True)\n",
            "      (15): Conv2d(512, 512, kernel_size=(3, 3), stride=(1, 1), padding=(1, 1))\n",
            "      (16): ReLU(inplace=True)\n",
            "      (17): MaxPool2d(kernel_size=(2, 2), stride=(2, 1), padding=(0, 1), dilation=1, ceil_mode=False)\n",
            "      (18): Conv2d(512, 512, kernel_size=(2, 2), stride=(1, 1))\n",
            "      (19): BatchNorm2d(512, eps=1e-05, momentum=0.1, affine=True, track_running_stats=True)\n",
            "      (20): ReLU(inplace=True)\n",
            "    )\n",
            "  )\n",
            "  (rnn): Sequential(\n",
            "    (0): BidirectionalLSTM(\n",
            "      (rnn): LSTM(512, 256, bidirectional=True)\n",
            "      (embedding): Linear(in_features=512, out_features=256, bias=True)\n",
            "    )\n",
            "    (1): BidirectionalLSTM(\n",
            "      (rnn): LSTM(256, 256, bidirectional=True)\n",
            "      (embedding): Linear(in_features=512, out_features=256, bias=True)\n",
            "    )\n",
            "  )\n",
            ")\n",
            "Decoder(\n",
            "  (decoder): AttnDecoderRNN(\n",
            "    (embedding): Embedding(1149, 256)\n",
            "    (attn): Linear(in_features=512, out_features=71, bias=True)\n",
            "    (attn_combine): Linear(in_features=512, out_features=256, bias=True)\n",
            "    (dropout): Dropout(p=0.1, inplace=False)\n",
            "    (gru): GRU(256, 256)\n",
            "    (out): Linear(in_features=256, out_features=1149, bias=True)\n",
            "  )\n",
            ")\n",
            "[Epoch 0/2] [Batch 0/29] Loss: 2974.5595703125\n",
            "[Epoch 0/2] [Batch 1/29] Loss: 2011.283203125\n",
            "[Epoch 0/2] [Batch 2/29] Loss: 2329.490234375\n",
            "[Epoch 0/2] [Batch 3/29] Loss: 2833.206787109375\n",
            "[Epoch 0/2] [Batch 4/29] Loss: 2092.393310546875\n",
            "[Epoch 0/2] [Batch 5/29] Loss: 1559.3931884765625\n",
            "[Epoch 0/2] [Batch 6/29] Loss: 2696.52685546875\n",
            "[Epoch 0/2] [Batch 7/29] Loss: 2147.307373046875\n",
            "[Epoch 0/2] [Batch 8/29] Loss: 2558.771728515625\n",
            "[Epoch 0/2] [Batch 9/29] Loss: 1752.5321044921875\n",
            "[Epoch 0/2] [Batch 10/29] Loss: 2327.996337890625\n",
            "[Epoch 0/2] [Batch 11/29] Loss: 2086.395263671875\n",
            "[Epoch 0/2] [Batch 12/29] Loss: 2284.801025390625\n",
            "[Epoch 0/2] [Batch 13/29] Loss: 1539.8497314453125\n",
            "[Epoch 0/2] [Batch 14/29] Loss: 1412.933837890625\n",
            "[Epoch 0/2] [Batch 15/29] Loss: 1245.147705078125\n",
            "[Epoch 0/2] [Batch 16/29] Loss: 1251.8807373046875\n",
            "[Epoch 0/2] [Batch 17/29] Loss: 1212.068359375\n",
            "[Epoch 0/2] [Batch 18/29] Loss: 1003.0421142578125\n",
            "[Epoch 0/2] [Batch 19/29] Loss: 993.9646606445312\n",
            "[Epoch 0/2] [Batch 20/29] Loss: 1034.245361328125\n",
            "[Epoch 0/2] [Batch 21/29] Loss: 852.9989624023438\n",
            "[Epoch 0/2] [Batch 22/29] Loss: 799.4254760742188\n",
            "[Epoch 0/2] [Batch 23/29] Loss: 928.6066284179688\n",
            "[Epoch 0/2] [Batch 24/29] Loss: 688.3213500976562\n",
            "[Epoch 0/2] [Batch 25/29] Loss: 796.1048583984375\n",
            "[Epoch 0/2] [Batch 26/29] Loss: 801.1737670898438\n",
            "[Epoch 0/2] [Batch 27/29] Loss: 738.9673461914062\n",
            "tensor([[[-0.9587,  0.8052, -0.3977,  ..., -0.8056, -1.0330,  1.0822]],\n",
            "\n",
            "        [[-1.1957,  0.9638, -0.5418,  ..., -0.7329, -1.2527,  1.2578]],\n",
            "\n",
            "        [[-1.4025,  1.1292, -0.6728,  ..., -0.6730, -1.4515,  1.4241]],\n",
            "\n",
            "        ...,\n",
            "\n",
            "        [[-1.9242,  1.4938, -0.9321,  ..., -0.3589, -1.8770,  1.7233]],\n",
            "\n",
            "        [[-1.7568,  1.3057, -0.8656,  ..., -0.1357, -1.6824,  1.5067]],\n",
            "\n",
            "        [[-1.4409,  1.0101, -0.7938,  ...,  0.2066, -1.3262,  1.1552]]],\n",
            "       device='cuda:0', grad_fn=<ViewBackward>)\n",
            "Traceback (most recent call last):\n",
            "  File \"train_im2latex.py\", line 242, in <module>\n",
            "    main()\n",
            "  File \"train_im2latex.py\", line 235, in main\n",
            "    train(image, text, encoder, decoder, criterion, train_loader, teach_forcing_prob=cfg.teaching_forcing_prob)\n",
            "  File \"train_im2latex.py\", line 102, in train\n",
            "    decoder_output, decoder_hidden, decoder_attention = decoder(decoder_input, decoder_hidden, encoder_outputs)\n",
            "  File \"/usr/local/lib/python3.6/dist-packages/torch/nn/modules/module.py\", line 722, in _call_impl\n",
            "    result = self.forward(*input, **kwargs)\n",
            "  File \"/content/crnn_seq2seq_ocr_pytorch/crnn/seq2seq.py\", line 113, in forward\n",
            "    return self.decoder(input, hidden, encoder_outputs)\n",
            "  File \"/usr/local/lib/python3.6/dist-packages/torch/nn/modules/module.py\", line 722, in _call_impl\n",
            "    result = self.forward(*input, **kwargs)\n",
            "  File \"/content/crnn_seq2seq_ocr_pytorch/crnn/seq2seq.py\", line 68, in forward\n",
            "    attn_weights = F.softmax(self.attn(torch.cat((embedded, hidden[0]), 1)), dim=1)\n",
            "IndexError: Dimension out of range (expected to be in range of [-1, 0], but got 1)\n"
          ],
          "name": "stdout"
        }
      ]
    }
  ]
}