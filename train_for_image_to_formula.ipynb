{
  "nbformat": 4,
  "nbformat_minor": 0,
  "metadata": {
    "kernelspec": {
      "display_name": "Python 3",
      "language": "python",
      "name": "python3"
    },
    "language_info": {
      "codemirror_mode": {
        "name": "ipython",
        "version": 3
      },
      "file_extension": ".py",
      "mimetype": "text/x-python",
      "name": "python",
      "nbconvert_exporter": "python",
      "pygments_lexer": "ipython3",
      "version": "3.8.2"
    },
    "colab": {
      "name": "1 - Sequence to Sequence Learning with Neural Networks.ipynb",
      "provenance": [],
      "include_colab_link": true
    },
    "accelerator": "GPU"
  },
  "cells": [
    {
      "cell_type": "markdown",
      "metadata": {
        "id": "view-in-github",
        "colab_type": "text"
      },
      "source": [
        "<a href=\"https://colab.research.google.com/github/vasiliyeskin/crnn_seq2seq_ocr_pytorch/blob/master/train_for_image_to_formula.ipynb\" target=\"_parent\"><img src=\"https://colab.research.google.com/assets/colab-badge.svg\" alt=\"Open In Colab\"/></a>"
      ]
    },
    {
      "cell_type": "code",
      "metadata": {
        "id": "79WptoUd7asD",
        "outputId": "bbc0be39-0dd6-43f5-f45c-e926a95056de",
        "colab": {
          "base_uri": "https://localhost:8080/",
          "height": 34
        }
      },
      "source": [
        "!git clone https://github.com/vasiliyeskin/crnn_seq2seq_ocr_pytorch.git"
      ],
      "execution_count": 5,
      "outputs": [
        {
          "output_type": "stream",
          "text": [
            "fatal: destination path 'crnn_seq2seq_ocr_pytorch' already exists and is not an empty directory.\n"
          ],
          "name": "stdout"
        }
      ]
    },
    {
      "cell_type": "code",
      "metadata": {
        "id": "ITDpQNRCK6TX",
        "outputId": "d12482a1-6fea-47ef-f296-95e2726dc989",
        "colab": {
          "base_uri": "https://localhost:8080/",
          "height": 34
        }
      },
      "source": [
        "%cd crnn_seq2seq_ocr_pytorch"
      ],
      "execution_count": 11,
      "outputs": [
        {
          "output_type": "stream",
          "text": [
            "/content/crnn_seq2seq_ocr_pytorch\n"
          ],
          "name": "stdout"
        }
      ]
    },
    {
      "cell_type": "code",
      "metadata": {
        "id": "X5yRjYgRLr1q",
        "outputId": "22575595-ab0f-4622-b8f3-662f46d4d5e1",
        "colab": {
          "base_uri": "https://localhost:8080/",
          "height": 69
        }
      },
      "source": [
        "!ls"
      ],
      "execution_count": 12,
      "outputs": [
        {
          "output_type": "stream",
          "text": [
            "crnn\t      model\t\tsrc\t\t\t\t  train.py\n",
            "data\t      README.md\t\ttrain_for_image_to_formula.ipynb\n",
            "inference.py  requirements.txt\ttrain_im2latex.py\n"
          ],
          "name": "stdout"
        }
      ]
    },
    {
      "cell_type": "code",
      "metadata": {
        "id": "G24wRwNKLuFI",
        "outputId": "c0e55b16-b571-4af0-e44a-831cc735bb30",
        "colab": {
          "base_uri": "https://localhost:8080/",
          "height": 1000
        }
      },
      "source": [
        "!python train_im2latex.py"
      ],
      "execution_count": 15,
      "outputs": [
        {
          "output_type": "stream",
          "text": [
            "Namespace(batch_size=32, decoder='', encoder='', eval_list='data/sample/validate_filter.lst', hidden_size=256, img_height=32, img_width=280, learning_rate=0.0001, max_width=71, model='./model/im2latex/', num_epochs=2, num_workers=4, random_sample=True, teaching_forcing_prob=0.5, train_list='data/sample/train_filter.lst')\n",
            "Encoder(\n",
            "  (cnn): CNN(\n",
            "    (cnn): Sequential(\n",
            "      (0): Conv2d(3, 64, kernel_size=(3, 3), stride=(1, 1), padding=(1, 1))\n",
            "      (1): ReLU(inplace=True)\n",
            "      (2): MaxPool2d(kernel_size=2, stride=2, padding=0, dilation=1, ceil_mode=False)\n",
            "      (3): Conv2d(64, 128, kernel_size=(3, 3), stride=(1, 1), padding=(1, 1))\n",
            "      (4): ReLU(inplace=True)\n",
            "      (5): MaxPool2d(kernel_size=2, stride=2, padding=0, dilation=1, ceil_mode=False)\n",
            "      (6): Conv2d(128, 256, kernel_size=(3, 3), stride=(1, 1), padding=(1, 1))\n",
            "      (7): BatchNorm2d(256, eps=1e-05, momentum=0.1, affine=True, track_running_stats=True)\n",
            "      (8): ReLU(inplace=True)\n",
            "      (9): Conv2d(256, 256, kernel_size=(3, 3), stride=(1, 1), padding=(1, 1))\n",
            "      (10): ReLU(inplace=True)\n",
            "      (11): MaxPool2d(kernel_size=(2, 2), stride=(2, 1), padding=(0, 1), dilation=1, ceil_mode=False)\n",
            "      (12): Conv2d(256, 512, kernel_size=(3, 3), stride=(1, 1), padding=(1, 1))\n",
            "      (13): BatchNorm2d(512, eps=1e-05, momentum=0.1, affine=True, track_running_stats=True)\n",
            "      (14): ReLU(inplace=True)\n",
            "      (15): Conv2d(512, 512, kernel_size=(3, 3), stride=(1, 1), padding=(1, 1))\n",
            "      (16): ReLU(inplace=True)\n",
            "      (17): MaxPool2d(kernel_size=(2, 2), stride=(2, 1), padding=(0, 1), dilation=1, ceil_mode=False)\n",
            "      (18): Conv2d(512, 512, kernel_size=(2, 2), stride=(1, 1))\n",
            "      (19): BatchNorm2d(512, eps=1e-05, momentum=0.1, affine=True, track_running_stats=True)\n",
            "      (20): ReLU(inplace=True)\n",
            "    )\n",
            "  )\n",
            "  (rnn): Sequential(\n",
            "    (0): BidirectionalLSTM(\n",
            "      (rnn): LSTM(512, 256, bidirectional=True)\n",
            "      (embedding): Linear(in_features=512, out_features=256, bias=True)\n",
            "    )\n",
            "    (1): BidirectionalLSTM(\n",
            "      (rnn): LSTM(256, 256, bidirectional=True)\n",
            "      (embedding): Linear(in_features=512, out_features=256, bias=True)\n",
            "    )\n",
            "  )\n",
            ")\n",
            "Decoder(\n",
            "  (decoder): AttnDecoderRNN(\n",
            "    (embedding): Embedding(1149, 256)\n",
            "    (attn): Linear(in_features=512, out_features=71, bias=True)\n",
            "    (attn_combine): Linear(in_features=512, out_features=256, bias=True)\n",
            "    (dropout): Dropout(p=0.1, inplace=False)\n",
            "    (gru): GRU(256, 256)\n",
            "    (out): Linear(in_features=256, out_features=1149, bias=True)\n",
            "  )\n",
            ")\n",
            "[Epoch 0/2] [Batch 0/29] Loss: 2436.5771484375\n",
            "[Epoch 0/2] [Batch 1/29] Loss: 2339.9423828125\n",
            "[Epoch 0/2] [Batch 2/29] Loss: 2032.375\n",
            "[Epoch 0/2] [Batch 3/29] Loss: 2288.907958984375\n",
            "[Epoch 0/2] [Batch 4/29] Loss: 2051.143310546875\n",
            "[Epoch 0/2] [Batch 5/29] Loss: 2873.200927734375\n",
            "[Epoch 0/2] [Batch 6/29] Loss: 2131.115478515625\n",
            "[Epoch 0/2] [Batch 7/29] Loss: 2704.364013671875\n",
            "[Epoch 0/2] [Batch 8/29] Loss: 2378.404296875\n",
            "[Epoch 0/2] [Batch 9/29] Loss: 2123.785888671875\n",
            "[Epoch 0/2] [Batch 10/29] Loss: 2659.4150390625\n",
            "[Epoch 0/2] [Batch 11/29] Loss: 2288.61767578125\n",
            "[Epoch 0/2] [Batch 12/29] Loss: 2429.9501953125\n",
            "[Epoch 0/2] [Batch 13/29] Loss: 2214.880859375\n",
            "[Epoch 0/2] [Batch 14/29] Loss: 1925.19482421875\n",
            "[Epoch 0/2] [Batch 15/29] Loss: 1576.19189453125\n",
            "[Epoch 0/2] [Batch 16/29] Loss: 1641.105712890625\n",
            "[Epoch 0/2] [Batch 17/29] Loss: 1601.557373046875\n",
            "[Epoch 0/2] [Batch 18/29] Loss: 1030.4500732421875\n",
            "[Epoch 0/2] [Batch 19/29] Loss: 928.3179931640625\n",
            "[Epoch 0/2] [Batch 20/29] Loss: 992.4321899414062\n",
            "[Epoch 0/2] [Batch 21/29] Loss: 1109.662353515625\n",
            "[Epoch 0/2] [Batch 22/29] Loss: 874.815185546875\n",
            "[Epoch 0/2] [Batch 23/29] Loss: 832.8966064453125\n",
            "[Epoch 0/2] [Batch 24/29] Loss: 947.9734497070312\n",
            "[Epoch 0/2] [Batch 25/29] Loss: 780.3931274414062\n",
            "[Epoch 0/2] [Batch 26/29] Loss: 857.41943359375\n",
            "[Epoch 0/2] [Batch 27/29] Loss: 701.475830078125\n",
            "tensor([[[-0.6117, -0.7984, -0.9707,  ...,  0.8932, -0.1757,  0.2518]],\n",
            "\n",
            "        [[-0.8004, -0.9492, -1.2216,  ...,  1.0101, -0.1705,  0.2832]],\n",
            "\n",
            "        [[-0.9613, -1.0645, -1.4306,  ...,  1.1002, -0.1618,  0.2969]],\n",
            "\n",
            "        ...,\n",
            "\n",
            "        [[-1.4237, -1.2762, -1.8631,  ...,  1.2546, -0.0942,  0.3963]],\n",
            "\n",
            "        [[-1.3058, -1.1395, -1.6599,  ...,  1.0833, -0.0800,  0.3497]],\n",
            "\n",
            "        [[-1.1003, -0.8990, -1.3488,  ...,  0.7972, -0.0465,  0.2817]]],\n",
            "       device='cuda:0', grad_fn=<ViewBackward>)\n",
            "Traceback (most recent call last):\n",
            "  File \"train_im2latex.py\", line 242, in <module>\n",
            "    main()\n",
            "  File \"train_im2latex.py\", line 235, in main\n",
            "    train(image, text, encoder, decoder, criterion, train_loader, teach_forcing_prob=cfg.teaching_forcing_prob)\n",
            "  File \"train_im2latex.py\", line 102, in train\n",
            "    decoder_output, decoder_hidden, decoder_attention = decoder(decoder_input, decoder_hidden, encoder_outputs)\n",
            "  File \"/usr/local/lib/python3.6/dist-packages/torch/nn/modules/module.py\", line 722, in _call_impl\n",
            "    result = self.forward(*input, **kwargs)\n",
            "  File \"/content/crnn_seq2seq_ocr_pytorch/crnn/seq2seq.py\", line 113, in forward\n",
            "    return self.decoder(input, hidden, encoder_outputs)\n",
            "  File \"/usr/local/lib/python3.6/dist-packages/torch/nn/modules/module.py\", line 722, in _call_impl\n",
            "    result = self.forward(*input, **kwargs)\n",
            "  File \"/content/crnn_seq2seq_ocr_pytorch/crnn/seq2seq.py\", line 68, in forward\n",
            "    attn_weights = F.softmax(self.attn(torch.cat((embedded, hidden[0]), 1)), dim=1)\n",
            "IndexError: Dimension out of range (expected to be in range of [-1, 0], but got 1)\n"
          ],
          "name": "stdout"
        }
      ]
    }
  ]
}