{
  "nbformat": 4,
  "nbformat_minor": 0,
  "metadata": {
    "kernelspec": {
      "display_name": "Python 3",
      "language": "python",
      "name": "python3"
    },
    "language_info": {
      "codemirror_mode": {
        "name": "ipython",
        "version": 3
      },
      "file_extension": ".py",
      "mimetype": "text/x-python",
      "name": "python",
      "nbconvert_exporter": "python",
      "pygments_lexer": "ipython3",
      "version": "3.8.2"
    },
    "colab": {
      "name": "1 - Sequence to Sequence Learning with Neural Networks.ipynb",
      "provenance": [],
      "include_colab_link": true
    },
    "accelerator": "GPU"
  },
  "cells": [
    {
      "cell_type": "markdown",
      "metadata": {
        "id": "view-in-github",
        "colab_type": "text"
      },
      "source": [
        "<a href=\"https://colab.research.google.com/github/vasiliyeskin/crnn_seq2seq_ocr_pytorch/blob/master/train_for_image_to_formula.ipynb\" target=\"_parent\"><img src=\"https://colab.research.google.com/assets/colab-badge.svg\" alt=\"Open In Colab\"/></a>"
      ]
    },
    {
      "cell_type": "code",
      "metadata": {
        "id": "79WptoUd7asD",
        "outputId": "75c15309-f656-41c3-eb46-2a53bbace08f",
        "colab": {
          "base_uri": "https://localhost:8080/",
          "height": 139
        }
      },
      "source": [
        "!git clone https://github.com/vasiliyeskin/crnn_seq2seq_ocr_pytorch.git"
      ],
      "execution_count": 1,
      "outputs": [
        {
          "output_type": "stream",
          "text": [
            "Cloning into 'crnn_seq2seq_ocr_pytorch'...\n",
            "remote: Enumerating objects: 2462, done.\u001b[K\n",
            "remote: Counting objects: 100% (2462/2462), done.\u001b[K\n",
            "remote: Compressing objects: 100% (1517/1517), done.\u001b[K\n",
            "remote: Total 2637 (delta 966), reused 2425 (delta 945), pack-reused 175\u001b[K\n",
            "Receiving objects: 100% (2637/2637), 54.00 MiB | 35.58 MiB/s, done.\n",
            "Resolving deltas: 100% (1058/1058), done.\n"
          ],
          "name": "stdout"
        }
      ]
    },
    {
      "cell_type": "code",
      "metadata": {
        "id": "ITDpQNRCK6TX",
        "outputId": "3e058d85-06c0-4f72-ef1b-0353283f34a0",
        "colab": {
          "base_uri": "https://localhost:8080/",
          "height": 34
        }
      },
      "source": [
        "%cd crnn_seq2seq_ocr_pytorch"
      ],
      "execution_count": 2,
      "outputs": [
        {
          "output_type": "stream",
          "text": [
            "/content/crnn_seq2seq_ocr_pytorch\n"
          ],
          "name": "stdout"
        }
      ]
    },
    {
      "cell_type": "code",
      "metadata": {
        "id": "X5yRjYgRLr1q",
        "outputId": "036091e4-7562-4fe3-a1c8-f788ba3ab0ee",
        "colab": {
          "base_uri": "https://localhost:8080/",
          "height": 69
        }
      },
      "source": [
        "!ls"
      ],
      "execution_count": 3,
      "outputs": [
        {
          "output_type": "stream",
          "text": [
            "crnn\t      model\t\tsrc\t\t\t\t  train.py\n",
            "data\t      README.md\t\ttrain_for_image_to_formula.ipynb\n",
            "inference.py  requirements.txt\ttrain_im2latex.py\n"
          ],
          "name": "stdout"
        }
      ]
    },
    {
      "cell_type": "code",
      "metadata": {
        "id": "G24wRwNKLuFI",
        "outputId": "3c752515-3c34-4f3d-88e7-29e7b95268a2",
        "colab": {
          "base_uri": "https://localhost:8080/",
          "height": 1000
        }
      },
      "source": [
        "!python train_im2latex.py"
      ],
      "execution_count": 4,
      "outputs": [
        {
          "output_type": "stream",
          "text": [
            "Namespace(batch_size=32, decoder='', encoder='', eval_list='data/sample/validate_filter.lst', hidden_size=256, img_height=32, img_width=280, learning_rate=0.0001, max_width=71, model='./model/im2latex/', num_epochs=2, num_workers=4, random_sample=True, teaching_forcing_prob=0.5, train_list='data/sample/train_filter.lst')\n",
            "Encoder(\n",
            "  (cnn): CNN(\n",
            "    (cnn): Sequential(\n",
            "      (0): Conv2d(3, 64, kernel_size=(3, 3), stride=(1, 1), padding=(1, 1))\n",
            "      (1): ReLU(inplace=True)\n",
            "      (2): MaxPool2d(kernel_size=2, stride=2, padding=0, dilation=1, ceil_mode=False)\n",
            "      (3): Conv2d(64, 128, kernel_size=(3, 3), stride=(1, 1), padding=(1, 1))\n",
            "      (4): ReLU(inplace=True)\n",
            "      (5): MaxPool2d(kernel_size=2, stride=2, padding=0, dilation=1, ceil_mode=False)\n",
            "      (6): Conv2d(128, 256, kernel_size=(3, 3), stride=(1, 1), padding=(1, 1))\n",
            "      (7): BatchNorm2d(256, eps=1e-05, momentum=0.1, affine=True, track_running_stats=True)\n",
            "      (8): ReLU(inplace=True)\n",
            "      (9): Conv2d(256, 256, kernel_size=(3, 3), stride=(1, 1), padding=(1, 1))\n",
            "      (10): ReLU(inplace=True)\n",
            "      (11): MaxPool2d(kernel_size=(2, 2), stride=(2, 1), padding=(0, 1), dilation=1, ceil_mode=False)\n",
            "      (12): Conv2d(256, 512, kernel_size=(3, 3), stride=(1, 1), padding=(1, 1))\n",
            "      (13): BatchNorm2d(512, eps=1e-05, momentum=0.1, affine=True, track_running_stats=True)\n",
            "      (14): ReLU(inplace=True)\n",
            "      (15): Conv2d(512, 512, kernel_size=(3, 3), stride=(1, 1), padding=(1, 1))\n",
            "      (16): ReLU(inplace=True)\n",
            "      (17): MaxPool2d(kernel_size=(2, 2), stride=(2, 1), padding=(0, 1), dilation=1, ceil_mode=False)\n",
            "      (18): Conv2d(512, 512, kernel_size=(2, 2), stride=(1, 1))\n",
            "      (19): BatchNorm2d(512, eps=1e-05, momentum=0.1, affine=True, track_running_stats=True)\n",
            "      (20): ReLU(inplace=True)\n",
            "    )\n",
            "  )\n",
            "  (rnn): Sequential(\n",
            "    (0): BidirectionalLSTM(\n",
            "      (rnn): LSTM(512, 256, bidirectional=True)\n",
            "      (embedding): Linear(in_features=512, out_features=256, bias=True)\n",
            "    )\n",
            "    (1): BidirectionalLSTM(\n",
            "      (rnn): LSTM(256, 256, bidirectional=True)\n",
            "      (embedding): Linear(in_features=512, out_features=256, bias=True)\n",
            "    )\n",
            "  )\n",
            ")\n",
            "Decoder(\n",
            "  (decoder): AttnDecoderRNN(\n",
            "    (embedding): Embedding(255, 256)\n",
            "    (attn): Linear(in_features=512, out_features=71, bias=True)\n",
            "    (attn_combine): Linear(in_features=512, out_features=256, bias=True)\n",
            "    (dropout): Dropout(p=0.1, inplace=False)\n",
            "    (gru): GRU(256, 256)\n",
            "    (out): Linear(in_features=256, out_features=255, bias=True)\n",
            "  )\n",
            ")\n",
            "[Epoch 0/2] [Batch 0/29] Loss: 1677.439697265625\n",
            "[Epoch 0/2] [Batch 1/29] Loss: 2309.270751953125\n",
            "[Epoch 0/2] [Batch 2/29] Loss: 2135.19677734375\n",
            "[Epoch 0/2] [Batch 3/29] Loss: 2195.3759765625\n",
            "[Epoch 0/2] [Batch 4/29] Loss: 2268.09765625\n",
            "[Epoch 0/2] [Batch 5/29] Loss: 2168.554443359375\n",
            "[Epoch 0/2] [Batch 6/29] Loss: 1879.58203125\n",
            "[Epoch 0/2] [Batch 7/29] Loss: 1382.9451904296875\n",
            "[Epoch 0/2] [Batch 8/29] Loss: 1956.0164794921875\n",
            "[Epoch 0/2] [Batch 9/29] Loss: 1491.366455078125\n",
            "[Epoch 0/2] [Batch 10/29] Loss: 1435.9664306640625\n",
            "[Epoch 0/2] [Batch 11/29] Loss: 1643.569091796875\n",
            "[Epoch 0/2] [Batch 12/29] Loss: 935.29736328125\n",
            "[Epoch 0/2] [Batch 13/29] Loss: 1397.1005859375\n",
            "[Epoch 0/2] [Batch 14/29] Loss: 1249.531494140625\n",
            "[Epoch 0/2] [Batch 15/29] Loss: 748.3082885742188\n",
            "[Epoch 0/2] [Batch 16/29] Loss: 860.1539916992188\n",
            "[Epoch 0/2] [Batch 17/29] Loss: 763.905517578125\n",
            "[Epoch 0/2] [Batch 18/29] Loss: 809.3867797851562\n",
            "[Epoch 0/2] [Batch 19/29] Loss: 682.7865600585938\n",
            "[Epoch 0/2] [Batch 20/29] Loss: 768.93212890625\n",
            "[Epoch 0/2] [Batch 21/29] Loss: 637.1699829101562\n",
            "[Epoch 0/2] [Batch 22/29] Loss: 689.4788208007812\n",
            "[Epoch 0/2] [Batch 23/29] Loss: 619.9747314453125\n",
            "[Epoch 0/2] [Batch 24/29] Loss: 564.9605102539062\n",
            "[Epoch 0/2] [Batch 25/29] Loss: 643.4375\n",
            "[Epoch 0/2] [Batch 26/29] Loss: 736.34130859375\n",
            "[Epoch 0/2] [Batch 27/29] Loss: 619.7288818359375\n",
            "tensor([[[-0.9086,  0.5398, -0.6775,  ...,  0.6501,  1.1239, -0.6605]],\n",
            "\n",
            "        [[-1.1334,  0.5912, -0.9279,  ...,  0.8603,  1.3207, -0.8025]],\n",
            "\n",
            "        [[-1.3242,  0.6251, -1.1347,  ...,  1.0532,  1.4711, -0.9183]],\n",
            "\n",
            "        ...,\n",
            "\n",
            "        [[-1.4792,  0.4510, -1.2731,  ...,  1.2503,  1.3627, -0.8963]],\n",
            "\n",
            "        [[-1.3025,  0.3575, -1.1333,  ...,  1.1335,  1.1282, -0.7755]],\n",
            "\n",
            "        [[-1.0547,  0.2442, -0.9356,  ...,  0.9581,  0.8384, -0.6108]]],\n",
            "       device='cuda:0', grad_fn=<ViewBackward>)\n",
            "[Epoch 0/2] [Batch 28/29] Loss: 396.64727783203125\n",
            "[Epoch 1/2] [Batch 0/29] Loss: 652.6131591796875\n",
            "[Epoch 1/2] [Batch 1/29] Loss: 660.1886596679688\n",
            "[Epoch 1/2] [Batch 2/29] Loss: 762.3074340820312\n",
            "[Epoch 1/2] [Batch 3/29] Loss: 610.9678955078125\n",
            "[Epoch 1/2] [Batch 4/29] Loss: 499.1721496582031\n",
            "[Epoch 1/2] [Batch 5/29] Loss: 677.6840209960938\n",
            "[Epoch 1/2] [Batch 6/29] Loss: 585.7505493164062\n",
            "[Epoch 1/2] [Batch 7/29] Loss: 606.7485961914062\n",
            "[Epoch 1/2] [Batch 8/29] Loss: 665.5183715820312\n",
            "[Epoch 1/2] [Batch 9/29] Loss: 711.73046875\n",
            "[Epoch 1/2] [Batch 10/29] Loss: 768.8674926757812\n",
            "[Epoch 1/2] [Batch 11/29] Loss: 600.6508178710938\n",
            "[Epoch 1/2] [Batch 12/29] Loss: 609.2432861328125\n",
            "[Epoch 1/2] [Batch 13/29] Loss: 614.70654296875\n",
            "[Epoch 1/2] [Batch 14/29] Loss: 576.5574340820312\n",
            "[Epoch 1/2] [Batch 15/29] Loss: 598.52978515625\n",
            "[Epoch 1/2] [Batch 16/29] Loss: 593.7349853515625\n",
            "[Epoch 1/2] [Batch 17/29] Loss: 658.3685913085938\n",
            "[Epoch 1/2] [Batch 18/29] Loss: 545.1814575195312\n",
            "[Epoch 1/2] [Batch 19/29] Loss: 638.4469604492188\n",
            "[Epoch 1/2] [Batch 20/29] Loss: 588.3735961914062\n",
            "[Epoch 1/2] [Batch 21/29] Loss: 513.0217895507812\n",
            "[Epoch 1/2] [Batch 22/29] Loss: 677.1494140625\n",
            "[Epoch 1/2] [Batch 23/29] Loss: 586.758544921875\n",
            "[Epoch 1/2] [Batch 24/29] Loss: 569.2972412109375\n",
            "[Epoch 1/2] [Batch 25/29] Loss: 610.6372680664062\n",
            "[Epoch 1/2] [Batch 26/29] Loss: 461.048828125\n",
            "[Epoch 1/2] [Batch 27/29] Loss: 667.1550903320312\n",
            "tensor([[[-1.2573,  0.8781, -0.8846,  ...,  0.8536,  1.7310, -0.9218]],\n",
            "\n",
            "        [[-1.5921,  0.9835, -1.2034,  ...,  1.1156,  2.0547, -1.1325]],\n",
            "\n",
            "        [[-1.8501,  1.0586, -1.4148,  ...,  1.3309,  2.2773, -1.2618]],\n",
            "\n",
            "        ...,\n",
            "\n",
            "        [[-2.0681,  0.8864, -1.5744,  ...,  1.4754,  2.2122, -1.2451]],\n",
            "\n",
            "        [[-1.8967,  0.7273, -1.4681,  ...,  1.3688,  1.9199, -1.0934]],\n",
            "\n",
            "        [[-1.5979,  0.5304, -1.2584,  ...,  1.1803,  1.4803, -0.8791]]],\n",
            "       device='cuda:0', grad_fn=<ViewBackward>)\n",
            "[Epoch 1/2] [Batch 28/29] Loss: 633.579833984375\n",
            "pred: !!!!!!!!!!!!!!!!!!!!!!!!!!!!!!!!!!!!!!!!!!!!!!!!!!!!!!!!!!!!!!!!!!!!!!!!!!!!!!!!!!!!!!!!!!!!!!!!!!!!!!!!!!!!!!!!!!!!!!!!!!!!!!!!!!!!!!!!!!!!!!!!!!!!!!!!!!!!!!!!!!!!!!!!!!!!!!!!!!!!!!!!!!!!!!!!!!!!!!!!!!!!!!!!!!!!!!!!!!!!!!!!!!!!!!!!!!!!!!!!!!!!!!!!!!!!!!!!!!!!!!!!!!!!!!!!!!!!!!!!!!!!!!!!!!!!!!!!!!!!!!!!!!!!!!!!!!!!!!!!!!!!!!!!!!!!, gt: \\int _ { - \\epsilon } ^ { \\infty } d l \\: \\mathrm { e } ^ { - l \\zeta } \\int _ { - \\epsilon } ^ { \\infty } d l ^ { \\prime } \\mathrm { e } ^ { - l ^ { \\prime } \\zeta } l l ^ { \\prime } { \\frac { l ^ { \\prime } - l } { l + l ^ { \\prime } } } \\{ 3 \\, \\delta ^ { \\prime \\prime } ( l ) - { \\frac { 3 } { 4 } } t \\, \\delta ( l ) \\} = 0 .\n",
            "pred: !!!!!!!!!!!!!!!!!!!!!!!!!!!!!!!!!!!!!!!!!!!!!!!!!!!!!!!!!!!!!!!!!!!!!!!!!!!!!!!!!!!!!!!!!!!!!!!!!!!!!!!!!!!!!!!!!!!!!!!!!!!!!!!!!!, gt: \\varphi ^ { \\prime \\prime } + { \\frac { 1 } { r } } \\varphi ^ { \\prime } + \\lambda \\left( \\varphi - \\varphi ^ { 3 } \\right) = 0 ,\n",
            "pred: !!!!!!!!!!!!!!!!!!!!!!!!!!!!!!!!!!!!!!!!!!!!!!!!!!!!!!!!!!!!!!!!!!!!!!!!!!!!!!!!!!!!!!!!!!!!!!!!!!!!!!!!!!!!!!!, gt: ( R _ { a b } R ^ { a b } - \\frac { n } { 4 ( n - 1 ) } R ^ { 2 } ) \\phi ^ { \\frac { 2 ( n - 4 ) } { n - 2 } }\n",
            "pred: !!!!!!!!!!!!!!!!!!!!!!!!!!!!!!!!!!!!!!!!!!!!!!!!!!!!!!!!!!!!!!!!!!!!!!!!!!!!!!!!!!!!!!!!!!!!!!!!!!!!!!!!!!!!!!!!!!!!!!!!!!, gt: { \\frac { \\partial \\bar { g } _ { \\mu \\nu } } { \\partial l _ { i } } } \\in \\mathrm { K e r } ( \\bar { F } ^ { \\dagger } )\n",
            "pred: !!!!!!!!!!!!!!!!!!!!!!!!!!!!!!!!!!!!!!!!!!!!!!!!!!!!!!!!!!!!!!!!!!!!!!!!!!!!!!!!!!!!!!!!!!!!!!!!!!!!!!!!!, gt: \\Phi ^ { i } = \\frac { 1 } { 2 } \\pi ^ { i } - \\int d u \\; \\; \\epsilon ( x - u ) \\; \\theta ^ { i } ( u )\n",
            "pred: !!!!!!!!!!!!!!!!!!!!!!!!!!!!!!!!!!!!!!!!!!!!!!!!!!!!!!!!!!!!!!!!!!!!!!!!, gt: M _ { P } ^ { 2 } = M _ { s } ^ { 3 } \\int d z e ^ { - 2 \\sigma ( z ) }\n",
            "pred: !!!!!!!!!!!!!!!!!!!!!!!!!!!!!!!!!!!!!!!!!!!!!!!!!!!!!!!!!!!!!!!!!!!!!!!!!!!!!!!!!!!!!!!!!!!!!!!!!!!!!!!!!!!!!!!!!!!!!!!!!!!!!!!!!!!!!!!!!!!!!!!!!!!!!!!!!!!!!!!!!!!!!!!!!!!!!!!!!!!!!!!!!!!!!!!!!!!!!!!, gt: m _ { C } ^ { 2 } = \\langle g ^ { 2 } A _ { \\mu } ^ { a } A _ { \\mu } ^ { a } \\rangle + \\left( { \\frac { 1 } { 2 } } \\alpha + \\beta \\right) \\langle i g ^ { 2 } \\bar { C } ^ { a } C ^ { a } \\rangle .\n",
            "pred: !!!!!!!!!!!!!!!!!!!!!!!!!!!!!!!!!!!!!!!!!!!!!!!!!!!!!!!!!!!!!!!!!!!!!!!!!!!!!!!!!!!!!!!!!!!!!!!!!!!!!!!!!!!!!!!!!!!!!!!!!!!!!!!!!!!, gt: J ( x , y , M ) = \\mathrm { t r } \\left\\langle x \\left| \\Gamma _ { 5 } \\Gamma \\frac { 1 } { \\Theta + M } \\right| y \\right\\rangle .\n",
            "pred: !!!!!!!!!!!!!!!!!!!!!!!!!!!!!!!!!!!!!!!!!!!!!!!!!!!!!!!!!!!!!!!!!!!!!!!!!!!!!!!!!!!!!!!!!!!!!!!!!!!!!!!!!!!!!!!!!!!!!!!!!!!!!!!!!!!!!!!!!!!!!!!!!!!!!!!!!!!!!!!!!!!!!!!!!!!!!!!!!!!!!!!!!!!!!!!!!!!!!!!!!!!!!!!!!!!!!!!!!!!!!!!!!!!!!!!!!!!!!!!!!!!!!!!!!!!!!!!!!!!!!!!!!!!!!!!!!!!!!!!!!!!!!!!!!!!!!, gt: \\int _ { - \\infty } ^ { \\infty } \\frac { d x } { ( \\gamma + x ^ { 2 } ) ( \\delta + x ^ { 2 } ) } = \\frac { \\pi } { \\sqrt { \\gamma \\delta } ( \\sqrt { \\gamma } + \\sqrt { \\delta } ) } = \\frac { \\pi } { \\sqrt { \\gamma \\delta } } \\frac { \\sqrt { \\delta } - \\sqrt { \\gamma } } { \\delta - \\gamma } ,\n",
            "Test loss: 0, accuray: 0.36939989458625105\n"
          ],
          "name": "stdout"
        }
      ]
    }
  ]
}