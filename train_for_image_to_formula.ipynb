{
  "nbformat": 4,
  "nbformat_minor": 0,
  "metadata": {
    "kernelspec": {
      "display_name": "Python 3",
      "language": "python",
      "name": "python3"
    },
    "language_info": {
      "codemirror_mode": {
        "name": "ipython",
        "version": 3
      },
      "file_extension": ".py",
      "mimetype": "text/x-python",
      "name": "python",
      "nbconvert_exporter": "python",
      "pygments_lexer": "ipython3",
      "version": "3.8.2"
    },
    "colab": {
      "name": "1 - Sequence to Sequence Learning with Neural Networks.ipynb",
      "provenance": [],
      "include_colab_link": true
    },
    "accelerator": "GPU"
  },
  "cells": [
    {
      "cell_type": "markdown",
      "metadata": {
        "id": "view-in-github",
        "colab_type": "text"
      },
      "source": [
        "<a href=\"https://colab.research.google.com/github/vasiliyeskin/crnn_seq2seq_ocr_pytorch/blob/master/train_for_image_to_formula.ipynb\" target=\"_parent\"><img src=\"https://colab.research.google.com/assets/colab-badge.svg\" alt=\"Open In Colab\"/></a>"
      ]
    },
    {
      "cell_type": "code",
      "metadata": {
        "id": "79WptoUd7asD",
        "outputId": "cd54197b-7f47-4340-bc82-1a827399189d",
        "colab": {
          "base_uri": "https://localhost:8080/",
          "height": 139
        }
      },
      "source": [
        "!git clone https://github.com/vasiliyeskin/crnn_seq2seq_ocr_pytorch.git"
      ],
      "execution_count": 6,
      "outputs": [
        {
          "output_type": "stream",
          "text": [
            "Cloning into 'crnn_seq2seq_ocr_pytorch'...\n",
            "remote: Enumerating objects: 2562, done.\u001b[K\n",
            "remote: Counting objects: 100% (2562/2562), done.\u001b[K\n",
            "remote: Compressing objects: 100% (1593/1593), done.\u001b[K\n",
            "remote: Total 2737 (delta 1027), reused 2477 (delta 969), pack-reused 175\u001b[K\n",
            "Receiving objects: 100% (2737/2737), 54.08 MiB | 35.66 MiB/s, done.\n",
            "Resolving deltas: 100% (1119/1119), done.\n"
          ],
          "name": "stdout"
        }
      ]
    },
    {
      "cell_type": "code",
      "metadata": {
        "id": "ITDpQNRCK6TX",
        "outputId": "574c007f-2661-4795-fd52-8bb591e61aeb",
        "colab": {
          "base_uri": "https://localhost:8080/",
          "height": 34
        }
      },
      "source": [
        "%cd crnn_seq2seq_ocr_pytorch"
      ],
      "execution_count": 7,
      "outputs": [
        {
          "output_type": "stream",
          "text": [
            "/content/crnn_seq2seq_ocr_pytorch/crnn_seq2seq_ocr_pytorch\n"
          ],
          "name": "stdout"
        }
      ]
    },
    {
      "cell_type": "code",
      "metadata": {
        "id": "X5yRjYgRLr1q",
        "outputId": "fb31349a-d4a6-4f79-a6dd-d6d216ee6e6f",
        "colab": {
          "base_uri": "https://localhost:8080/",
          "height": 121
        }
      },
      "source": [
        "!ls"
      ],
      "execution_count": 8,
      "outputs": [
        {
          "output_type": "stream",
          "text": [
            "crnn\t\t  src\n",
            "data\t\t  train_for_image_to_formula.ipynb\n",
            "inference.py\t  train_im2latex_for_seq2seq_3d.py\n",
            "model\t\t  train_im2latex.py\n",
            "README.md\t  train.py\n",
            "requirements.txt\n"
          ],
          "name": "stdout"
        }
      ]
    },
    {
      "cell_type": "code",
      "metadata": {
        "id": "p8ZKrkvskqfw",
        "outputId": "0a5a7141-f4f5-4366-f63d-17e769cefaec",
        "colab": {
          "base_uri": "https://localhost:8080/",
          "height": 104
        }
      },
      "source": [
        "!pip install tensorboardX"
      ],
      "execution_count": 9,
      "outputs": [
        {
          "output_type": "stream",
          "text": [
            "Requirement already satisfied: tensorboardX in /usr/local/lib/python3.6/dist-packages (2.1)\n",
            "Requirement already satisfied: numpy in /usr/local/lib/python3.6/dist-packages (from tensorboardX) (1.18.5)\n",
            "Requirement already satisfied: six in /usr/local/lib/python3.6/dist-packages (from tensorboardX) (1.15.0)\n",
            "Requirement already satisfied: protobuf>=3.8.0 in /usr/local/lib/python3.6/dist-packages (from tensorboardX) (3.12.4)\n",
            "Requirement already satisfied: setuptools in /usr/local/lib/python3.6/dist-packages (from protobuf>=3.8.0->tensorboardX) (50.3.0)\n"
          ],
          "name": "stdout"
        }
      ]
    },
    {
      "cell_type": "code",
      "metadata": {
        "id": "glN7cs6vsc_R"
      },
      "source": [
        "!python train_im2latex.py --num_epochs 100 --learning_rate 0.0001 --img_height 160 --img_width 500"
      ],
      "execution_count": null,
      "outputs": []
    },
    {
      "cell_type": "code",
      "metadata": {
        "id": "G24wRwNKLuFI"
      },
      "source": [
        "!python train_im2latex.py --num_epochs 20 --learning_rate 0.001 --teaching_forcing_prob 0.0"
      ],
      "execution_count": null,
      "outputs": []
    },
    {
      "cell_type": "code",
      "metadata": {
        "id": "tXVBlxa4RUgv",
        "outputId": "7f17d8e9-f6b4-41fa-f219-1c66a503204c",
        "colab": {
          "base_uri": "https://localhost:8080/",
          "height": 1000
        }
      },
      "source": [
        "!python train_im2latex_for_seq2seq_3d.py --num_epochs 2"
      ],
      "execution_count": 10,
      "outputs": [
        {
          "output_type": "stream",
          "text": [
            "Namespace(batch_size=32, decoder='', encoder='', eval_list='data/sample/validate_filter.lst', hidden_size=256, img_height=32, img_width=280, learning_rate=0.0001, max_width=71, model='./model/im2latex/', num_epochs=2, num_workers=4, random_sample=True, teaching_forcing_prob=0.5, train_list='data/sample/train_filter.lst')\n",
            "Seq2Seq(\n",
            "  (cnn): CNN(\n",
            "    (cnn): Sequential(\n",
            "      (0): Conv2d(3, 64, kernel_size=(3, 3), stride=(1, 1), padding=(1, 1))\n",
            "      (1): ReLU(inplace=True)\n",
            "      (2): MaxPool2d(kernel_size=2, stride=2, padding=0, dilation=1, ceil_mode=False)\n",
            "      (3): Conv2d(64, 128, kernel_size=(3, 3), stride=(1, 1), padding=(1, 1))\n",
            "      (4): ReLU(inplace=True)\n",
            "      (5): MaxPool2d(kernel_size=2, stride=2, padding=0, dilation=1, ceil_mode=False)\n",
            "      (6): Conv2d(128, 256, kernel_size=(3, 3), stride=(1, 1), padding=(1, 1))\n",
            "      (7): BatchNorm2d(256, eps=1e-05, momentum=0.1, affine=True, track_running_stats=True)\n",
            "      (8): ReLU(inplace=True)\n",
            "      (9): Conv2d(256, 256, kernel_size=(3, 3), stride=(1, 1), padding=(1, 1))\n",
            "      (10): ReLU(inplace=True)\n",
            "      (11): MaxPool2d(kernel_size=(2, 2), stride=(2, 1), padding=(0, 1), dilation=1, ceil_mode=False)\n",
            "      (12): Conv2d(256, 512, kernel_size=(3, 3), stride=(1, 1), padding=(1, 1))\n",
            "      (13): BatchNorm2d(512, eps=1e-05, momentum=0.1, affine=True, track_running_stats=True)\n",
            "      (14): ReLU(inplace=True)\n",
            "      (15): Conv2d(512, 512, kernel_size=(3, 3), stride=(1, 1), padding=(1, 1))\n",
            "      (16): ReLU(inplace=True)\n",
            "      (17): MaxPool2d(kernel_size=(2, 2), stride=(2, 1), padding=(0, 1), dilation=1, ceil_mode=False)\n",
            "      (18): Conv2d(512, 512, kernel_size=(2, 2), stride=(1, 1))\n",
            "      (19): BatchNorm2d(512, eps=1e-05, momentum=0.1, affine=True, track_running_stats=True)\n",
            "      (20): ReLU(inplace=True)\n",
            "    )\n",
            "  )\n",
            "  (encoder): Encoder(\n",
            "    (rnn): GRU(512, 512, bidirectional=True)\n",
            "    (fc): Linear(in_features=1024, out_features=512, bias=True)\n",
            "    (dropout): Dropout(p=0.5, inplace=False)\n",
            "  )\n",
            "  (decoder): Decoder(\n",
            "    (attention): Attention(\n",
            "      (attn): Linear(in_features=1536, out_features=512, bias=True)\n",
            "      (v): Linear(in_features=512, out_features=1, bias=False)\n",
            "    )\n",
            "    (embedding): Embedding(255, 256)\n",
            "    (rnn): GRU(1280, 512)\n",
            "    (fc_out): Linear(in_features=1792, out_features=255, bias=True)\n",
            "    (dropout): Dropout(p=0.5, inplace=False)\n",
            "  )\n",
            ")\n",
            "The model has 13,294,719 trainable parameters\n",
            "[Epoch 1/2] [Batch 1/29] Loss: 0.0008259049500338733\n",
            "[Epoch 1/2] [Batch 2/29] Loss: -0.018991822376847267\n",
            "[Epoch 1/2] [Batch 3/29] Loss: -0.08371666073799133\n",
            "[Epoch 1/2] [Batch 4/29] Loss: -0.239852175116539\n",
            "[Epoch 1/2] [Batch 5/29] Loss: -0.8106150031089783\n",
            "[Epoch 1/2] [Batch 6/29] Loss: -3.246279716491699\n",
            "[Epoch 1/2] [Batch 7/29] Loss: -7.242329120635986\n",
            "[Epoch 1/2] [Batch 8/29] Loss: -12.057623863220215\n",
            "[Epoch 1/2] [Batch 9/29] Loss: -13.224592208862305\n",
            "[Epoch 1/2] [Batch 10/29] Loss: -15.791913032531738\n",
            "[Epoch 1/2] [Batch 11/29] Loss: -17.101755142211914\n",
            "[Epoch 1/2] [Batch 12/29] Loss: -19.132768630981445\n",
            "[Epoch 1/2] [Batch 13/29] Loss: -20.433576583862305\n",
            "[Epoch 1/2] [Batch 14/29] Loss: -22.50303077697754\n",
            "[Epoch 1/2] [Batch 15/29] Loss: -22.448406219482422\n",
            "[Epoch 1/2] [Batch 16/29] Loss: -24.204620361328125\n",
            "[Epoch 1/2] [Batch 17/29] Loss: -26.669673919677734\n",
            "[Epoch 1/2] [Batch 18/29] Loss: -28.334598541259766\n",
            "[Epoch 1/2] [Batch 19/29] Loss: -28.939760208129883\n",
            "[Epoch 1/2] [Batch 20/29] Loss: -31.01580238342285\n",
            "[Epoch 1/2] [Batch 21/29] Loss: -32.26664733886719\n",
            "[Epoch 1/2] [Batch 22/29] Loss: -34.22759246826172\n",
            "[Epoch 1/2] [Batch 23/29] Loss: -36.07907485961914\n",
            "[Epoch 1/2] [Batch 24/29] Loss: -37.703697204589844\n",
            "[Epoch 1/2] [Batch 25/29] Loss: -40.1678352355957\n",
            "[Epoch 1/2] [Batch 26/29] Loss: -41.64838409423828\n",
            "[Epoch 1/2] [Batch 27/29] Loss: -42.56126403808594\n",
            "[Epoch 1/2] [Batch 28/29] Loss: -43.7352294921875\n",
            "[Epoch 1/2] [Batch 29/29] Loss: -37.166805267333984\n",
            "[Epoch 2/2] [Batch 1/29] Loss: -46.85124969482422\n",
            "[Epoch 2/2] [Batch 2/29] Loss: -48.672828674316406\n",
            "[Epoch 2/2] [Batch 3/29] Loss: -50.612060546875\n",
            "[Epoch 2/2] [Batch 4/29] Loss: -51.25163269042969\n",
            "[Epoch 2/2] [Batch 5/29] Loss: -52.89494705200195\n",
            "[Epoch 2/2] [Batch 6/29] Loss: -54.11888885498047\n",
            "[Epoch 2/2] [Batch 7/29] Loss: -56.523746490478516\n",
            "[Epoch 2/2] [Batch 8/29] Loss: -57.6889533996582\n",
            "[Epoch 2/2] [Batch 9/29] Loss: -58.26852035522461\n",
            "[Epoch 2/2] [Batch 10/29] Loss: -59.89816665649414\n",
            "[Epoch 2/2] [Batch 11/29] Loss: -61.20237350463867\n",
            "[Epoch 2/2] [Batch 12/29] Loss: -62.91895294189453\n",
            "[Epoch 2/2] [Batch 13/29] Loss: -65.5777359008789\n",
            "[Epoch 2/2] [Batch 14/29] Loss: -64.82191467285156\n",
            "[Epoch 2/2] [Batch 15/29] Loss: -66.41122436523438\n",
            "[Epoch 2/2] [Batch 16/29] Loss: -68.42620849609375\n",
            "[Epoch 2/2] [Batch 17/29] Loss: -69.77911376953125\n",
            "[Epoch 2/2] [Batch 18/29] Loss: -72.16388702392578\n",
            "[Epoch 2/2] [Batch 19/29] Loss: -73.04196166992188\n",
            "[Epoch 2/2] [Batch 20/29] Loss: -75.81498718261719\n",
            "[Epoch 2/2] [Batch 21/29] Loss: -76.51687622070312\n",
            "[Epoch 2/2] [Batch 22/29] Loss: -76.13371276855469\n",
            "[Epoch 2/2] [Batch 23/29] Loss: -80.09046936035156\n",
            "[Epoch 2/2] [Batch 24/29] Loss: -79.42206573486328\n",
            "[Epoch 2/2] [Batch 25/29] Loss: -82.29473876953125\n",
            "[Epoch 2/2] [Batch 26/29] Loss: -83.02269744873047\n",
            "[Epoch 2/2] [Batch 27/29] Loss: -86.16230773925781\n",
            "[Epoch 2/2] [Batch 28/29] Loss: -88.47393035888672\n",
            "[Epoch 2/2] [Batch 29/29] Loss: -75.85863494873047\n",
            "Traceback (most recent call last):\n",
            "  File \"train_im2latex_for_seq2seq_3d.py\", line 344, in <module>\n",
            "    main()\n",
            "  File \"train_im2latex_for_seq2seq_3d.py\", line 340, in main\n",
            "    evaluate(image, text, model, test_loader, max_eval_iter=100)\n",
            "  File \"train_im2latex_for_seq2seq_3d.py\", line 231, in evaluate\n",
            "    decoded_words = converter.decode(decoded_label)\n",
            "  File \"/content/crnn_seq2seq_ocr_pytorch/crnn_seq2seq_ocr_pytorch/src/utils.py\", line 71, in decode\n",
            "    texts = list(self.dict.keys())[list(self.dict.values()).index(t)]\n",
            "RuntimeError: Boolean value of Tensor with more than one value is ambiguous\n"
          ],
          "name": "stdout"
        }
      ]
    }
  ]
}