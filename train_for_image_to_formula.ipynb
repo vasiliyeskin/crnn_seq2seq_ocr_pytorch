{
  "nbformat": 4,
  "nbformat_minor": 0,
  "metadata": {
    "kernelspec": {
      "display_name": "Python 3",
      "language": "python",
      "name": "python3"
    },
    "language_info": {
      "codemirror_mode": {
        "name": "ipython",
        "version": 3
      },
      "file_extension": ".py",
      "mimetype": "text/x-python",
      "name": "python",
      "nbconvert_exporter": "python",
      "pygments_lexer": "ipython3",
      "version": "3.8.2"
    },
    "colab": {
      "name": "1 - Sequence to Sequence Learning with Neural Networks.ipynb",
      "provenance": [],
      "include_colab_link": true
    },
    "accelerator": "GPU"
  },
  "cells": [
    {
      "cell_type": "markdown",
      "metadata": {
        "id": "view-in-github",
        "colab_type": "text"
      },
      "source": [
        "<a href=\"https://colab.research.google.com/github/vasiliyeskin/crnn_seq2seq_ocr_pytorch/blob/master/train_for_image_to_formula.ipynb\" target=\"_parent\"><img src=\"https://colab.research.google.com/assets/colab-badge.svg\" alt=\"Open In Colab\"/></a>"
      ]
    },
    {
      "cell_type": "code",
      "metadata": {
        "id": "79WptoUd7asD",
        "outputId": "16994988-f329-493a-cf94-f8e5e59a952c",
        "colab": {
          "base_uri": "https://localhost:8080/",
          "height": 139
        }
      },
      "source": [
        "!git clone https://github.com/vasiliyeskin/crnn_seq2seq_ocr_pytorch.git"
      ],
      "execution_count": 65,
      "outputs": [
        {
          "output_type": "stream",
          "text": [
            "Cloning into 'crnn_seq2seq_ocr_pytorch'...\n",
            "remote: Enumerating objects: 2630, done.\u001b[K\n",
            "remote: Counting objects: 100% (2630/2630), done.\u001b[K\n",
            "remote: Compressing objects: 100% (1641/1641), done.\u001b[K\n",
            "remote: Total 2805 (delta 1072), reused 2520 (delta 989), pack-reused 175\u001b[K\n",
            "Receiving objects: 100% (2805/2805), 54.09 MiB | 38.17 MiB/s, done.\n",
            "Resolving deltas: 100% (1164/1164), done.\n"
          ],
          "name": "stdout"
        }
      ]
    },
    {
      "cell_type": "code",
      "metadata": {
        "id": "ITDpQNRCK6TX",
        "outputId": "77a09843-784a-4f86-e223-d40c69545e03",
        "colab": {
          "base_uri": "https://localhost:8080/",
          "height": 54
        }
      },
      "source": [
        "%cd crnn_seq2seq_ocr_pytorch"
      ],
      "execution_count": 66,
      "outputs": [
        {
          "output_type": "stream",
          "text": [
            "/content/crnn_seq2seq_ocr_pytorch/crnn_seq2seq_ocr_pytorch/crnn_seq2seq_ocr_pytorch/crnn_seq2seq_ocr_pytorch/crnn_seq2seq_ocr_pytorch/crnn_seq2seq_ocr_pytorch/crnn_seq2seq_ocr_pytorch/crnn_seq2seq_ocr_pytorch/crnn_seq2seq_ocr_pytorch/crnn_seq2seq_ocr_pytorch/crnn_seq2seq_ocr_pytorch/crnn_seq2seq_ocr_pytorch/crnn_seq2seq_ocr_pytorch/crnn_seq2seq_ocr_pytorch/crnn_seq2seq_ocr_pytorch\n"
          ],
          "name": "stdout"
        }
      ]
    },
    {
      "cell_type": "code",
      "metadata": {
        "id": "X5yRjYgRLr1q",
        "outputId": "90da4fa2-852f-428a-e436-12ce9a9bb764",
        "colab": {
          "base_uri": "https://localhost:8080/",
          "height": 121
        }
      },
      "source": [
        "!ls"
      ],
      "execution_count": 67,
      "outputs": [
        {
          "output_type": "stream",
          "text": [
            "crnn\t\t  src\n",
            "data\t\t  train_for_image_to_formula.ipynb\n",
            "inference.py\t  train_im2latex_for_seq2seq_3d.py\n",
            "model\t\t  train_im2latex.py\n",
            "README.md\t  train.py\n",
            "requirements.txt\n"
          ],
          "name": "stdout"
        }
      ]
    },
    {
      "cell_type": "code",
      "metadata": {
        "id": "p8ZKrkvskqfw",
        "outputId": "75e15bd5-a1cf-4d86-c017-f979000a151a",
        "colab": {
          "base_uri": "https://localhost:8080/",
          "height": 104
        }
      },
      "source": [
        "!pip install tensorboardX"
      ],
      "execution_count": 68,
      "outputs": [
        {
          "output_type": "stream",
          "text": [
            "Requirement already satisfied: tensorboardX in /usr/local/lib/python3.6/dist-packages (2.1)\n",
            "Requirement already satisfied: six in /usr/local/lib/python3.6/dist-packages (from tensorboardX) (1.15.0)\n",
            "Requirement already satisfied: protobuf>=3.8.0 in /usr/local/lib/python3.6/dist-packages (from tensorboardX) (3.12.4)\n",
            "Requirement already satisfied: numpy in /usr/local/lib/python3.6/dist-packages (from tensorboardX) (1.18.5)\n",
            "Requirement already satisfied: setuptools in /usr/local/lib/python3.6/dist-packages (from protobuf>=3.8.0->tensorboardX) (50.3.0)\n"
          ],
          "name": "stdout"
        }
      ]
    },
    {
      "cell_type": "code",
      "metadata": {
        "id": "glN7cs6vsc_R"
      },
      "source": [
        "!python train_im2latex.py --num_epochs 100 --learning_rate 0.0001 --img_height 160 --img_width 500"
      ],
      "execution_count": null,
      "outputs": []
    },
    {
      "cell_type": "code",
      "metadata": {
        "id": "G24wRwNKLuFI"
      },
      "source": [
        "!python train_im2latex.py --num_epochs 20 --learning_rate 0.001 --teaching_forcing_prob 0.0"
      ],
      "execution_count": null,
      "outputs": []
    },
    {
      "cell_type": "code",
      "metadata": {
        "id": "tXVBlxa4RUgv",
        "outputId": "20e2a71f-2482-408b-f2b2-08545306d9e3",
        "colab": {
          "base_uri": "https://localhost:8080/",
          "height": 1000
        }
      },
      "source": [
        "!python train_im2latex_for_seq2seq_3d.py --num_epochs 2"
      ],
      "execution_count": 69,
      "outputs": [
        {
          "output_type": "stream",
          "text": [
            "Namespace(batch_size=32, decoder='', encoder='', eval_list='data/sample/validate_filter.lst', hidden_size=256, img_height=32, img_width=280, learning_rate=0.0001, max_width=71, model='./model/im2latex/', num_epochs=2, num_workers=4, random_sample=True, teaching_forcing_prob=0.5, train_list='data/sample/train_filter.lst')\n",
            "Seq2Seq(\n",
            "  (cnn): CNN(\n",
            "    (cnn): Sequential(\n",
            "      (0): Conv2d(3, 64, kernel_size=(3, 3), stride=(1, 1), padding=(1, 1))\n",
            "      (1): ReLU(inplace=True)\n",
            "      (2): MaxPool2d(kernel_size=2, stride=2, padding=0, dilation=1, ceil_mode=False)\n",
            "      (3): Conv2d(64, 128, kernel_size=(3, 3), stride=(1, 1), padding=(1, 1))\n",
            "      (4): ReLU(inplace=True)\n",
            "      (5): MaxPool2d(kernel_size=2, stride=2, padding=0, dilation=1, ceil_mode=False)\n",
            "      (6): Conv2d(128, 256, kernel_size=(3, 3), stride=(1, 1), padding=(1, 1))\n",
            "      (7): BatchNorm2d(256, eps=1e-05, momentum=0.1, affine=True, track_running_stats=True)\n",
            "      (8): ReLU(inplace=True)\n",
            "      (9): Conv2d(256, 256, kernel_size=(3, 3), stride=(1, 1), padding=(1, 1))\n",
            "      (10): ReLU(inplace=True)\n",
            "      (11): MaxPool2d(kernel_size=(2, 2), stride=(2, 1), padding=(0, 1), dilation=1, ceil_mode=False)\n",
            "      (12): Conv2d(256, 512, kernel_size=(3, 3), stride=(1, 1), padding=(1, 1))\n",
            "      (13): BatchNorm2d(512, eps=1e-05, momentum=0.1, affine=True, track_running_stats=True)\n",
            "      (14): ReLU(inplace=True)\n",
            "      (15): Conv2d(512, 512, kernel_size=(3, 3), stride=(1, 1), padding=(1, 1))\n",
            "      (16): ReLU(inplace=True)\n",
            "      (17): MaxPool2d(kernel_size=(2, 2), stride=(2, 1), padding=(0, 1), dilation=1, ceil_mode=False)\n",
            "      (18): Conv2d(512, 512, kernel_size=(2, 2), stride=(1, 1))\n",
            "      (19): BatchNorm2d(512, eps=1e-05, momentum=0.1, affine=True, track_running_stats=True)\n",
            "      (20): ReLU(inplace=True)\n",
            "    )\n",
            "  )\n",
            "  (encoder): Encoder(\n",
            "    (rnn): GRU(512, 512, bidirectional=True)\n",
            "    (fc): Linear(in_features=1024, out_features=512, bias=True)\n",
            "    (dropout): Dropout(p=0.5, inplace=False)\n",
            "  )\n",
            "  (decoder): Decoder(\n",
            "    (attention): Attention(\n",
            "      (attn): Linear(in_features=1536, out_features=512, bias=True)\n",
            "      (v): Linear(in_features=512, out_features=1, bias=False)\n",
            "    )\n",
            "    (embedding): Embedding(255, 256)\n",
            "    (rnn): GRU(1280, 512)\n",
            "    (fc_out): Linear(in_features=1792, out_features=255, bias=True)\n",
            "    (dropout): Dropout(p=0.5, inplace=False)\n",
            "  )\n",
            ")\n",
            "The model has 13,294,719 trainable parameters\n",
            "[Epoch 1/2] [Batch 1/29] Loss: 5.541999816894531\n",
            "[Epoch 1/2] [Batch 2/29] Loss: 5.520236015319824\n",
            "[Epoch 1/2] [Batch 3/29] Loss: 5.448486804962158\n",
            "[Epoch 1/2] [Batch 4/29] Loss: 5.2707929611206055\n",
            "[Epoch 1/2] [Batch 5/29] Loss: 4.613888740539551\n",
            "[Epoch 1/2] [Batch 6/29] Loss: 2.4938411712646484\n",
            "[Epoch 1/2] [Batch 7/29] Loss: 4.500138759613037\n",
            "[Epoch 1/2] [Batch 8/29] Loss: 3.804440975189209\n",
            "[Epoch 1/2] [Batch 9/29] Loss: 3.6654016971588135\n",
            "[Epoch 1/2] [Batch 10/29] Loss: 2.8366446495056152\n",
            "[Epoch 1/2] [Batch 11/29] Loss: 2.81581974029541\n",
            "[Epoch 1/2] [Batch 12/29] Loss: 2.584787130355835\n",
            "[Epoch 1/2] [Batch 13/29] Loss: 2.604748487472534\n",
            "[Epoch 1/2] [Batch 14/29] Loss: 2.399228572845459\n",
            "[Epoch 1/2] [Batch 15/29] Loss: 2.827864408493042\n",
            "[Epoch 1/2] [Batch 16/29] Loss: 2.6684670448303223\n",
            "[Epoch 1/2] [Batch 17/29] Loss: 2.34956693649292\n",
            "[Epoch 1/2] [Batch 18/29] Loss: 2.299222946166992\n",
            "[Epoch 1/2] [Batch 19/29] Loss: 2.5768465995788574\n",
            "[Epoch 1/2] [Batch 20/29] Loss: 2.4070279598236084\n",
            "[Epoch 1/2] [Batch 21/29] Loss: 2.503573417663574\n",
            "[Epoch 1/2] [Batch 22/29] Loss: 2.3885929584503174\n",
            "[Epoch 1/2] [Batch 23/29] Loss: 2.2877981662750244\n",
            "[Epoch 1/2] [Batch 24/29] Loss: 2.242480754852295\n",
            "[Epoch 1/2] [Batch 25/29] Loss: 1.9380489587783813\n",
            "[Epoch 1/2] [Batch 26/29] Loss: 1.9465359449386597\n",
            "[Epoch 1/2] [Batch 27/29] Loss: 2.1831278800964355\n",
            "[Epoch 1/2] [Batch 28/29] Loss: 2.25038743019104\n",
            "[Epoch 1/2] [Batch 29/29] Loss: 4.518398761749268\n",
            "[Epoch 2/2] [Batch 1/29] Loss: 2.224478244781494\n",
            "[Epoch 2/2] [Batch 2/29] Loss: 2.1029598712921143\n",
            "[Epoch 2/2] [Batch 3/29] Loss: 1.9373146295547485\n",
            "[Epoch 2/2] [Batch 4/29] Loss: 2.1766433715820312\n",
            "[Epoch 2/2] [Batch 5/29] Loss: 2.113982677459717\n",
            "[Epoch 2/2] [Batch 6/29] Loss: 2.2227060794830322\n",
            "[Epoch 2/2] [Batch 7/29] Loss: 1.8562003374099731\n",
            "[Epoch 2/2] [Batch 8/29] Loss: 1.9814121723175049\n",
            "[Epoch 2/2] [Batch 9/29] Loss: 2.22314453125\n",
            "[Epoch 2/2] [Batch 10/29] Loss: 2.216265916824341\n",
            "[Epoch 2/2] [Batch 11/29] Loss: 2.240049362182617\n",
            "[Epoch 2/2] [Batch 12/29] Loss: 2.120875597000122\n",
            "[Epoch 2/2] [Batch 13/29] Loss: 1.831166386604309\n",
            "[Epoch 2/2] [Batch 14/29] Loss: 2.351916790008545\n",
            "[Epoch 2/2] [Batch 15/29] Loss: 2.349911689758301\n",
            "[Epoch 2/2] [Batch 16/29] Loss: 2.2098817825317383\n",
            "[Epoch 2/2] [Batch 17/29] Loss: 2.2129757404327393\n",
            "[Epoch 2/2] [Batch 18/29] Loss: 2.02583646774292\n",
            "[Epoch 2/2] [Batch 19/29] Loss: 2.206393003463745\n",
            "[Epoch 2/2] [Batch 20/29] Loss: 1.8526531457901\n",
            "[Epoch 2/2] [Batch 21/29] Loss: 1.9874919652938843\n",
            "[Epoch 2/2] [Batch 22/29] Loss: 2.4108171463012695\n",
            "[Epoch 2/2] [Batch 23/29] Loss: 1.9087376594543457\n",
            "[Epoch 2/2] [Batch 24/29] Loss: 2.378504753112793\n",
            "[Epoch 2/2] [Batch 25/29] Loss: 2.0908703804016113\n",
            "[Epoch 2/2] [Batch 26/29] Loss: 2.2182815074920654\n",
            "[Epoch 2/2] [Batch 27/29] Loss: 1.8819130659103394\n",
            "[Epoch 2/2] [Batch 28/29] Loss: 1.7457234859466553\n",
            "[Epoch 2/2] [Batch 29/29] Loss: 4.1073994636535645\n",
            "torch.Size([113, 255])\n",
            "Traceback (most recent call last):\n",
            "  File \"train_im2latex_for_seq2seq_3d.py\", line 334, in <module>\n",
            "    main()\n",
            "  File \"train_im2latex_for_seq2seq_3d.py\", line 330, in main\n",
            "    evaluate(image, text, model, criterion, test_loader, max_eval_iter=100)\n",
            "  File \"train_im2latex_for_seq2seq_3d.py\", line 226, in evaluate\n",
            "    decoded_words = [converter.decode(item) for item in decoded_label]\n",
            "  File \"train_im2latex_for_seq2seq_3d.py\", line 226, in <listcomp>\n",
            "    decoded_words = [converter.decode(item) for item in decoded_label]\n",
            "  File \"/content/crnn_seq2seq_ocr_pytorch/crnn_seq2seq_ocr_pytorch/crnn_seq2seq_ocr_pytorch/crnn_seq2seq_ocr_pytorch/crnn_seq2seq_ocr_pytorch/crnn_seq2seq_ocr_pytorch/crnn_seq2seq_ocr_pytorch/crnn_seq2seq_ocr_pytorch/crnn_seq2seq_ocr_pytorch/crnn_seq2seq_ocr_pytorch/crnn_seq2seq_ocr_pytorch/crnn_seq2seq_ocr_pytorch/crnn_seq2seq_ocr_pytorch/crnn_seq2seq_ocr_pytorch/crnn_seq2seq_ocr_pytorch/src/utils.py\", line 71, in decode\n",
            "    texts = list(self.dict.keys())[list(self.dict.values()).index(t)]\n",
            "RuntimeError: Boolean value of Tensor with more than one value is ambiguous\n"
          ],
          "name": "stdout"
        }
      ]
    }
  ]
}