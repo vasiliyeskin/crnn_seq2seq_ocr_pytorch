{
  "nbformat": 4,
  "nbformat_minor": 0,
  "metadata": {
    "kernelspec": {
      "display_name": "Python 3",
      "language": "python",
      "name": "python3"
    },
    "language_info": {
      "codemirror_mode": {
        "name": "ipython",
        "version": 3
      },
      "file_extension": ".py",
      "mimetype": "text/x-python",
      "name": "python",
      "nbconvert_exporter": "python",
      "pygments_lexer": "ipython3",
      "version": "3.8.2"
    },
    "colab": {
      "name": "1 - Sequence to Sequence Learning with Neural Networks.ipynb",
      "provenance": [],
      "include_colab_link": true
    },
    "accelerator": "GPU"
  },
  "cells": [
    {
      "cell_type": "markdown",
      "metadata": {
        "id": "view-in-github",
        "colab_type": "text"
      },
      "source": [
        "<a href=\"https://colab.research.google.com/github/vasiliyeskin/crnn_seq2seq_ocr_pytorch/blob/master/train_for_image_to_formula.ipynb\" target=\"_parent\"><img src=\"https://colab.research.google.com/assets/colab-badge.svg\" alt=\"Open In Colab\"/></a>"
      ]
    },
    {
      "cell_type": "code",
      "metadata": {
        "id": "79WptoUd7asD",
        "outputId": "bea0d4f6-d37a-4b87-9f83-951c126b851a",
        "colab": {
          "base_uri": "https://localhost:8080/",
          "height": 139
        }
      },
      "source": [
        "!git clone https://github.com/vasiliyeskin/crnn_seq2seq_ocr_pytorch.git"
      ],
      "execution_count": 1,
      "outputs": [
        {
          "output_type": "stream",
          "text": [
            "Cloning into 'crnn_seq2seq_ocr_pytorch'...\n",
            "remote: Enumerating objects: 2523, done.\u001b[K\n",
            "remote: Counting objects: 100% (2523/2523), done.\u001b[K\n",
            "remote: Compressing objects: 100% (1562/1562), done.\u001b[K\n",
            "remote: Total 2698 (delta 1004), reused 2458 (delta 961), pack-reused 175\u001b[K\n",
            "Receiving objects: 100% (2698/2698), 54.02 MiB | 39.26 MiB/s, done.\n",
            "Resolving deltas: 100% (1096/1096), done.\n"
          ],
          "name": "stdout"
        }
      ]
    },
    {
      "cell_type": "code",
      "metadata": {
        "id": "ITDpQNRCK6TX",
        "outputId": "a2131bdd-adc5-4da4-f053-6c79e22eb0ca",
        "colab": {
          "base_uri": "https://localhost:8080/",
          "height": 34
        }
      },
      "source": [
        "%cd crnn_seq2seq_ocr_pytorch"
      ],
      "execution_count": 2,
      "outputs": [
        {
          "output_type": "stream",
          "text": [
            "/content/crnn_seq2seq_ocr_pytorch\n"
          ],
          "name": "stdout"
        }
      ]
    },
    {
      "cell_type": "code",
      "metadata": {
        "id": "X5yRjYgRLr1q",
        "outputId": "9c41e57f-fc69-489e-b42b-b7e0886c1000",
        "colab": {
          "base_uri": "https://localhost:8080/",
          "height": 69
        }
      },
      "source": [
        "!ls"
      ],
      "execution_count": 3,
      "outputs": [
        {
          "output_type": "stream",
          "text": [
            "crnn\t      model\t\tsrc\t\t\t\t  train.py\n",
            "data\t      README.md\t\ttrain_for_image_to_formula.ipynb\n",
            "inference.py  requirements.txt\ttrain_im2latex.py\n"
          ],
          "name": "stdout"
        }
      ]
    },
    {
      "cell_type": "code",
      "metadata": {
        "id": "p8ZKrkvskqfw",
        "outputId": "71e32bb4-1eca-42d8-f860-be089b5554ed",
        "colab": {
          "base_uri": "https://localhost:8080/",
          "height": 173
        }
      },
      "source": [
        "!pip install tensorboardX"
      ],
      "execution_count": 4,
      "outputs": [
        {
          "output_type": "stream",
          "text": [
            "Collecting tensorboardX\n",
            "\u001b[?25l  Downloading https://files.pythonhosted.org/packages/af/0c/4f41bcd45db376e6fe5c619c01100e9b7531c55791b7244815bac6eac32c/tensorboardX-2.1-py2.py3-none-any.whl (308kB)\n",
            "\r\u001b[K     |█                               | 10kB 20.8MB/s eta 0:00:01\r\u001b[K     |██▏                             | 20kB 26.7MB/s eta 0:00:01\r\u001b[K     |███▏                            | 30kB 19.2MB/s eta 0:00:01\r\u001b[K     |████▎                           | 40kB 13.2MB/s eta 0:00:01\r\u001b[K     |█████▎                          | 51kB 13.6MB/s eta 0:00:01\r\u001b[K     |██████▍                         | 61kB 12.3MB/s eta 0:00:01\r\u001b[K     |███████▍                        | 71kB 12.1MB/s eta 0:00:01\r\u001b[K     |████████▌                       | 81kB 10.3MB/s eta 0:00:01\r\u001b[K     |█████████▌                      | 92kB 7.7MB/s eta 0:00:01\r\u001b[K     |██████████▋                     | 102kB 8.4MB/s eta 0:00:01\r\u001b[K     |███████████▊                    | 112kB 8.4MB/s eta 0:00:01\r\u001b[K     |████████████▊                   | 122kB 8.4MB/s eta 0:00:01\r\u001b[K     |█████████████▉                  | 133kB 8.4MB/s eta 0:00:01\r\u001b[K     |██████████████▉                 | 143kB 8.4MB/s eta 0:00:01\r\u001b[K     |████████████████                | 153kB 8.4MB/s eta 0:00:01\r\u001b[K     |█████████████████               | 163kB 8.4MB/s eta 0:00:01\r\u001b[K     |██████████████████              | 174kB 8.4MB/s eta 0:00:01\r\u001b[K     |███████████████████             | 184kB 8.4MB/s eta 0:00:01\r\u001b[K     |████████████████████▏           | 194kB 8.4MB/s eta 0:00:01\r\u001b[K     |█████████████████████▎          | 204kB 8.4MB/s eta 0:00:01\r\u001b[K     |██████████████████████▎         | 215kB 8.4MB/s eta 0:00:01\r\u001b[K     |███████████████████████▍        | 225kB 8.4MB/s eta 0:00:01\r\u001b[K     |████████████████████████▍       | 235kB 8.4MB/s eta 0:00:01\r\u001b[K     |█████████████████████████▌      | 245kB 8.4MB/s eta 0:00:01\r\u001b[K     |██████████████████████████▌     | 256kB 8.4MB/s eta 0:00:01\r\u001b[K     |███████████████████████████▋    | 266kB 8.4MB/s eta 0:00:01\r\u001b[K     |████████████████████████████▋   | 276kB 8.4MB/s eta 0:00:01\r\u001b[K     |█████████████████████████████▊  | 286kB 8.4MB/s eta 0:00:01\r\u001b[K     |██████████████████████████████▊ | 296kB 8.4MB/s eta 0:00:01\r\u001b[K     |███████████████████████████████▉| 307kB 8.4MB/s eta 0:00:01\r\u001b[K     |████████████████████████████████| 317kB 8.4MB/s \n",
            "\u001b[?25hRequirement already satisfied: six in /usr/local/lib/python3.6/dist-packages (from tensorboardX) (1.15.0)\n",
            "Requirement already satisfied: numpy in /usr/local/lib/python3.6/dist-packages (from tensorboardX) (1.18.5)\n",
            "Requirement already satisfied: protobuf>=3.8.0 in /usr/local/lib/python3.6/dist-packages (from tensorboardX) (3.12.4)\n",
            "Requirement already satisfied: setuptools in /usr/local/lib/python3.6/dist-packages (from protobuf>=3.8.0->tensorboardX) (50.3.0)\n",
            "Installing collected packages: tensorboardX\n",
            "Successfully installed tensorboardX-2.1\n"
          ],
          "name": "stdout"
        }
      ]
    },
    {
      "cell_type": "code",
      "metadata": {
        "id": "G24wRwNKLuFI",
        "outputId": "570ccda3-3470-4d74-9265-e243a86efa27",
        "colab": {
          "base_uri": "https://localhost:8080/",
          "height": 1000
        }
      },
      "source": [
        "!python train_im2latex.py --num_epochs 2 --eval_list data/sample/train_filter.lst"
      ],
      "execution_count": 8,
      "outputs": [
        {
          "output_type": "stream",
          "text": [
            "Namespace(batch_size=32, decoder='', encoder='', eval_list='data/sample/train_filter.lst', hidden_size=256, img_height=32, img_width=280, learning_rate=0.0001, max_width=71, model='./model/im2latex/', num_epochs=2, num_workers=4, random_sample=True, teaching_forcing_prob=0.5, train_list='data/sample/train_filter.lst')\n",
            "Encoder(\n",
            "  (cnn): CNN(\n",
            "    (cnn): Sequential(\n",
            "      (0): Conv2d(3, 64, kernel_size=(3, 3), stride=(1, 1), padding=(1, 1))\n",
            "      (1): ReLU(inplace=True)\n",
            "      (2): MaxPool2d(kernel_size=2, stride=2, padding=0, dilation=1, ceil_mode=False)\n",
            "      (3): Conv2d(64, 128, kernel_size=(3, 3), stride=(1, 1), padding=(1, 1))\n",
            "      (4): ReLU(inplace=True)\n",
            "      (5): MaxPool2d(kernel_size=2, stride=2, padding=0, dilation=1, ceil_mode=False)\n",
            "      (6): Conv2d(128, 256, kernel_size=(3, 3), stride=(1, 1), padding=(1, 1))\n",
            "      (7): BatchNorm2d(256, eps=1e-05, momentum=0.1, affine=True, track_running_stats=True)\n",
            "      (8): ReLU(inplace=True)\n",
            "      (9): Conv2d(256, 256, kernel_size=(3, 3), stride=(1, 1), padding=(1, 1))\n",
            "      (10): ReLU(inplace=True)\n",
            "      (11): MaxPool2d(kernel_size=(2, 2), stride=(2, 1), padding=(0, 1), dilation=1, ceil_mode=False)\n",
            "      (12): Conv2d(256, 512, kernel_size=(3, 3), stride=(1, 1), padding=(1, 1))\n",
            "      (13): BatchNorm2d(512, eps=1e-05, momentum=0.1, affine=True, track_running_stats=True)\n",
            "      (14): ReLU(inplace=True)\n",
            "      (15): Conv2d(512, 512, kernel_size=(3, 3), stride=(1, 1), padding=(1, 1))\n",
            "      (16): ReLU(inplace=True)\n",
            "      (17): MaxPool2d(kernel_size=(2, 2), stride=(2, 1), padding=(0, 1), dilation=1, ceil_mode=False)\n",
            "      (18): Conv2d(512, 512, kernel_size=(2, 2), stride=(1, 1))\n",
            "      (19): BatchNorm2d(512, eps=1e-05, momentum=0.1, affine=True, track_running_stats=True)\n",
            "      (20): ReLU(inplace=True)\n",
            "    )\n",
            "  )\n",
            "  (rnn): Sequential(\n",
            "    (0): BidirectionalLSTM(\n",
            "      (rnn): LSTM(512, 256, bidirectional=True)\n",
            "      (embedding): Linear(in_features=512, out_features=256, bias=True)\n",
            "    )\n",
            "    (1): BidirectionalLSTM(\n",
            "      (rnn): LSTM(256, 256, bidirectional=True)\n",
            "      (embedding): Linear(in_features=512, out_features=256, bias=True)\n",
            "    )\n",
            "  )\n",
            ")\n",
            "Decoder(\n",
            "  (decoder): AttnDecoderRNN(\n",
            "    (embedding): Embedding(255, 256)\n",
            "    (attn): Linear(in_features=512, out_features=71, bias=True)\n",
            "    (attn_combine): Linear(in_features=512, out_features=256, bias=True)\n",
            "    (dropout): Dropout(p=0.1, inplace=False)\n",
            "    (gru): GRU(256, 256)\n",
            "    (out): Linear(in_features=256, out_features=255, bias=True)\n",
            "  )\n",
            ")\n",
            "[Epoch 1/2] [Batch 1/29] Loss: 827.5650634765625\n",
            "[Epoch 1/2] [Batch 2/29] Loss: 614.1952514648438\n",
            "[Epoch 1/2] [Batch 3/29] Loss: 648.4547729492188\n",
            "[Epoch 1/2] [Batch 4/29] Loss: 627.168212890625\n",
            "[Epoch 1/2] [Batch 5/29] Loss: 563.0875244140625\n",
            "[Epoch 1/2] [Batch 6/29] Loss: 765.4744873046875\n",
            "[Epoch 1/2] [Batch 7/29] Loss: 619.3736572265625\n",
            "[Epoch 1/2] [Batch 8/29] Loss: 721.586669921875\n",
            "[Epoch 1/2] [Batch 9/29] Loss: 621.1717529296875\n",
            "[Epoch 1/2] [Batch 10/29] Loss: 558.6900634765625\n",
            "[Epoch 1/2] [Batch 11/29] Loss: 677.8999633789062\n",
            "[Epoch 1/2] [Batch 12/29] Loss: 654.7662353515625\n",
            "[Epoch 1/2] [Batch 13/29] Loss: 491.3540954589844\n",
            "[Epoch 1/2] [Batch 14/29] Loss: 456.8964538574219\n",
            "[Epoch 1/2] [Batch 15/29] Loss: 468.91339111328125\n",
            "[Epoch 1/2] [Batch 16/29] Loss: 471.88385009765625\n",
            "[Epoch 1/2] [Batch 17/29] Loss: 480.7924499511719\n",
            "[Epoch 1/2] [Batch 18/29] Loss: 435.1356201171875\n",
            "[Epoch 1/2] [Batch 19/29] Loss: 437.0477294921875\n",
            "[Epoch 1/2] [Batch 20/29] Loss: 402.5655212402344\n",
            "[Epoch 1/2] [Batch 21/29] Loss: 390.9794006347656\n",
            "[Epoch 1/2] [Batch 22/29] Loss: 372.3071594238281\n",
            "[Epoch 1/2] [Batch 23/29] Loss: 370.1532897949219\n",
            "[Epoch 1/2] [Batch 24/29] Loss: 370.1805725097656\n",
            "[Epoch 1/2] [Batch 25/29] Loss: 355.822265625\n",
            "[Epoch 1/2] [Batch 26/29] Loss: 314.48638916015625\n",
            "[Epoch 1/2] [Batch 27/29] Loss: 338.82958984375\n",
            "[Epoch 1/2] [Batch 28/29] Loss: 392.35369873046875\n",
            "[Epoch 1/2] [Batch 29/29] Loss: 154.73423767089844\n",
            "[Epoch 2/2] [Batch 1/29] Loss: 349.21917724609375\n",
            "[Epoch 2/2] [Batch 2/29] Loss: 361.42449951171875\n",
            "[Epoch 2/2] [Batch 3/29] Loss: 274.0588073730469\n",
            "[Epoch 2/2] [Batch 4/29] Loss: 370.4391784667969\n",
            "[Epoch 2/2] [Batch 5/29] Loss: 260.9043884277344\n",
            "[Epoch 2/2] [Batch 6/29] Loss: 334.59991455078125\n",
            "[Epoch 2/2] [Batch 7/29] Loss: 351.9294738769531\n",
            "[Epoch 2/2] [Batch 8/29] Loss: 376.7908630371094\n",
            "[Epoch 2/2] [Batch 9/29] Loss: 301.45562744140625\n",
            "[Epoch 2/2] [Batch 10/29] Loss: 330.05853271484375\n",
            "[Epoch 2/2] [Batch 11/29] Loss: 266.925537109375\n",
            "[Epoch 2/2] [Batch 12/29] Loss: 377.45538330078125\n",
            "[Epoch 2/2] [Batch 13/29] Loss: 311.42864990234375\n",
            "[Epoch 2/2] [Batch 14/29] Loss: 349.13916015625\n",
            "[Epoch 2/2] [Batch 15/29] Loss: 358.2734680175781\n",
            "[Epoch 2/2] [Batch 16/29] Loss: 285.4417724609375\n",
            "[Epoch 2/2] [Batch 17/29] Loss: 289.33734130859375\n",
            "[Epoch 2/2] [Batch 18/29] Loss: 251.76046752929688\n",
            "[Epoch 2/2] [Batch 19/29] Loss: 264.6716003417969\n",
            "[Epoch 2/2] [Batch 20/29] Loss: 273.1033935546875\n",
            "[Epoch 2/2] [Batch 21/29] Loss: 292.3970947265625\n",
            "[Epoch 2/2] [Batch 22/29] Loss: 288.40020751953125\n",
            "[Epoch 2/2] [Batch 23/29] Loss: 291.4220275878906\n",
            "[Epoch 2/2] [Batch 24/29] Loss: 285.6175231933594\n",
            "[Epoch 2/2] [Batch 25/29] Loss: 289.91839599609375\n",
            "[Epoch 2/2] [Batch 26/29] Loss: 285.93267822265625\n",
            "[Epoch 2/2] [Batch 27/29] Loss: 288.9205627441406\n",
            "[Epoch 2/2] [Batch 28/29] Loss: 257.36309814453125\n",
            "[Epoch 2/2] [Batch 29/29] Loss: 511.92901611328125\n",
            "pred 0: {{{{{{{{{{{{{{{{{{{{{{{{{{{{{{{{{{{{{{{{{{}}{{{{}}{{{}}{{{}}{{{}}}{{{}}}!!!!!!!!!!!!!!!!!!!!!!!!!!!!!!!!!!!!!!!!!!!!!!!!!!!!!!!!!!\n",
            "gt 0: d s ^ { 2 } = ( 1 - { \\frac { q c o s \\theta } { r } } ) ^ { \\frac { 2 } { 1 + \\alpha ^ { 2 } } } \\lbrace d r ^ { 2 } + r ^ { 2 } d \\theta ^ { 2 } + r ^ { 2 } s i n ^ { 2 } \\theta d \\varphi ^ { 2 } \\rbrace - { \\frac { d t ^ { 2 } } { ( 1 - { \\frac { q c o s \\theta } { r } } ) ^ { \\frac { 2 } { 1 + \\alpha ^ { 2 } } } } } \\, .\n",
            "pred 10: {{{{{{{{{{{{{{{{{{{{{{{{{{{{{{{{{{{{{{{{{{{}}{{{{\n",
            "gt 10: \\rho _ { L } ( q ) = \\sum _ { m = 1 } ^ { L } \\ P _ { L } ( m ) \\ { \\frac { 1 } { q ^ { m - 1 } } } \\ \\ .\n",
            "pred 20: {{{{{{{{{{{{{{{{{{{{{{{{{{{{{{{{{\n",
            "gt 20: \\langle T _ { z z } \\rangle = - 3 \\times \\frac { \\pi ^ { 2 } } { 1 4 4 0 a ^ { 4 } } .\n",
            "pred 30: {{{{{{{{{{{{{{{{{{{{{{{{{{{{{{{{{{{{{{{{{{{}}{{{{}}{{{}}{{{}}{{{}}}{{{}}}!!!\n",
            "gt 30: X ( u ) = { \\frac { \\left( \\pm i + e ^ { 3 \\eta } \\right) \\left( - 1 + { e ^ { u } } \\right) \\left( 1 + { e ^ { u } } \\right) x _ { 1 } } { 2 { e ^ { u } } \\left( \\pm i + { e ^ { 3 \\eta + u } } \\right) } } ,\n",
            "pred 40: {{{{{{{{{{{{{{{{{{{{{{{{{{{{{{{{{{{{{{{\n",
            "gt 40: { \\cal P } _ { \\delta x } \\equiv { \\frac { k ^ { 3 } } { 2 \\pi ^ { 2 } } } | \\delta x | ^ { 2 } \\, ,\n",
            "pred 50: {{{{{{{{{{{{{{{{{{{{{{{{{{{{{{{{{{{{{{{{{}}{{{{}}{{{{}}{{{}}{{{}}}{{{}}}!!!!!!!!!!\n",
            "gt 50: a _ { 1 } = \\frac { 2 \\tilde { q } } { \\alpha ^ { 2 } ( D - 2 ) + 2 q \\tilde { q } } , ~ ~ ~ ~ a _ { 2 } = \\frac { \\alpha ^ { 2 } ( D - 2 ) } { \\alpha ^ { 2 } d ( D - 2 ) + 2 \\tilde { d } q ^ { 2 } }\n",
            "pred 60: {{{{{{{{{{{{{{{{{{{{{{{{{{{{{{{{{{{\n",
            "gt 60: \\lambda _ { + } = \\frac { 1 + i \\omega } { 2 } , \\quad \\lambda _ { - } = \\frac { 1 - i \\omega } { 2 }\n",
            "pred 70: {{{{{{{{{{{{{{{{{{{{{{{{{{{{{{{{{{{{{{{{{{}}{{{\n",
            "gt 70: E q ( 5 . 2 ) T _ { R } \\; \\sim \\; 5 \\left( \\frac { m } { \\mathrm { T e V } } \\right) ^ { 3 / 2 } \\; \\; \\; \\mathrm { k e V } .\n",
            "pred 80: {{{{{{{{{{{{{{{{{{{{{{{{{{{{{{{{{{{{{{{{{{{}}{{{{}}{{\n",
            "gt 80: Z _ { M } = \\sum _ { j _ { s } } \\int d U _ { f } \\Pi _ { s } \\left( 2 j _ { s } + 1 \\right) T r _ { j _ { s } } U _ { s }\n",
            "pred 90: {{{{{{{{{{{{{{{{{{{{{{{{{{{{{{{{{{{{{{{{{{{}}{{{{}}{{{{}}{{{}}{{{}\n",
            "gt 90: S = \\int _ { \\mathcal M } \\left( { \\frac { i } { 2 } } \\left[ \\overline { \\psi } \\gamma ^ { a } \\nabla _ { a } \\psi - \\overline { { ( \\nabla _ { a } \\psi ) } } \\gamma ^ { a } \\psi \\right] - m \\overline { \\psi } \\psi \\right) \\, ,\n",
            "Test loss: 0, accuray: 0.05550616029467802\n"
          ],
          "name": "stdout"
        }
      ]
    }
  ]
}