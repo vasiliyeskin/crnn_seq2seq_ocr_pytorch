{
  "nbformat": 4,
  "nbformat_minor": 0,
  "metadata": {
    "kernelspec": {
      "display_name": "Python 3",
      "language": "python",
      "name": "python3"
    },
    "language_info": {
      "codemirror_mode": {
        "name": "ipython",
        "version": 3
      },
      "file_extension": ".py",
      "mimetype": "text/x-python",
      "name": "python",
      "nbconvert_exporter": "python",
      "pygments_lexer": "ipython3",
      "version": "3.8.2"
    },
    "colab": {
      "name": "1 - Sequence to Sequence Learning with Neural Networks.ipynb",
      "provenance": [],
      "include_colab_link": true
    },
    "accelerator": "GPU"
  },
  "cells": [
    {
      "cell_type": "markdown",
      "metadata": {
        "id": "view-in-github",
        "colab_type": "text"
      },
      "source": [
        "<a href=\"https://colab.research.google.com/github/vasiliyeskin/crnn_seq2seq_ocr_pytorch/blob/master/train_for_image_to_formula.ipynb\" target=\"_parent\"><img src=\"https://colab.research.google.com/assets/colab-badge.svg\" alt=\"Open In Colab\"/></a>"
      ]
    },
    {
      "cell_type": "code",
      "metadata": {
        "id": "79WptoUd7asD",
        "outputId": "ee061ed7-e7f6-4545-e89d-09bd5330d639",
        "colab": {
          "base_uri": "https://localhost:8080/",
          "height": 139
        }
      },
      "source": [
        "!git clone https://github.com/vasiliyeskin/crnn_seq2seq_ocr_pytorch.git"
      ],
      "execution_count": 1,
      "outputs": [
        {
          "output_type": "stream",
          "text": [
            "Cloning into 'crnn_seq2seq_ocr_pytorch'...\n",
            "remote: Enumerating objects: 2555, done.\u001b[K\n",
            "remote: Counting objects: 100% (2555/2555), done.\u001b[K\n",
            "remote: Compressing objects: 100% (1588/1588), done.\u001b[K\n",
            "remote: Total 2730 (delta 1022), reused 2475 (delta 967), pack-reused 175\u001b[K\n",
            "Receiving objects: 100% (2730/2730), 54.08 MiB | 35.87 MiB/s, done.\n",
            "Resolving deltas: 100% (1114/1114), done.\n"
          ],
          "name": "stdout"
        }
      ]
    },
    {
      "cell_type": "code",
      "metadata": {
        "id": "ITDpQNRCK6TX",
        "outputId": "920c4519-dc88-4d57-9152-4dca30c9d158",
        "colab": {
          "base_uri": "https://localhost:8080/",
          "height": 34
        }
      },
      "source": [
        "%cd crnn_seq2seq_ocr_pytorch"
      ],
      "execution_count": 2,
      "outputs": [
        {
          "output_type": "stream",
          "text": [
            "/content/crnn_seq2seq_ocr_pytorch\n"
          ],
          "name": "stdout"
        }
      ]
    },
    {
      "cell_type": "code",
      "metadata": {
        "id": "X5yRjYgRLr1q",
        "outputId": "9f7630f9-e836-43e8-912f-144944749fd6",
        "colab": {
          "base_uri": "https://localhost:8080/",
          "height": 121
        }
      },
      "source": [
        "!ls"
      ],
      "execution_count": 3,
      "outputs": [
        {
          "output_type": "stream",
          "text": [
            "crnn\t\t  src\n",
            "data\t\t  train_for_image_to_formula.ipynb\n",
            "inference.py\t  train_im2latex_for_seq2seq_3d.py\n",
            "model\t\t  train_im2latex.py\n",
            "README.md\t  train.py\n",
            "requirements.txt\n"
          ],
          "name": "stdout"
        }
      ]
    },
    {
      "cell_type": "code",
      "metadata": {
        "id": "p8ZKrkvskqfw",
        "outputId": "e665ef7e-2da4-4187-80cf-7c5eb19907ce",
        "colab": {
          "base_uri": "https://localhost:8080/",
          "height": 173
        }
      },
      "source": [
        "!pip install tensorboardX"
      ],
      "execution_count": 4,
      "outputs": [
        {
          "output_type": "stream",
          "text": [
            "Collecting tensorboardX\n",
            "\u001b[?25l  Downloading https://files.pythonhosted.org/packages/af/0c/4f41bcd45db376e6fe5c619c01100e9b7531c55791b7244815bac6eac32c/tensorboardX-2.1-py2.py3-none-any.whl (308kB)\n",
            "\r\u001b[K     |█                               | 10kB 23.5MB/s eta 0:00:01\r\u001b[K     |██▏                             | 20kB 29.4MB/s eta 0:00:01\r\u001b[K     |███▏                            | 30kB 19.6MB/s eta 0:00:01\r\u001b[K     |████▎                           | 40kB 13.0MB/s eta 0:00:01\r\u001b[K     |█████▎                          | 51kB 10.2MB/s eta 0:00:01\r\u001b[K     |██████▍                         | 61kB 10.0MB/s eta 0:00:01\r\u001b[K     |███████▍                        | 71kB 10.1MB/s eta 0:00:01\r\u001b[K     |████████▌                       | 81kB 10.4MB/s eta 0:00:01\r\u001b[K     |█████████▌                      | 92kB 10.5MB/s eta 0:00:01\r\u001b[K     |██████████▋                     | 102kB 10.5MB/s eta 0:00:01\r\u001b[K     |███████████▊                    | 112kB 10.5MB/s eta 0:00:01\r\u001b[K     |████████████▊                   | 122kB 10.5MB/s eta 0:00:01\r\u001b[K     |█████████████▉                  | 133kB 10.5MB/s eta 0:00:01\r\u001b[K     |██████████████▉                 | 143kB 10.5MB/s eta 0:00:01\r\u001b[K     |████████████████                | 153kB 10.5MB/s eta 0:00:01\r\u001b[K     |█████████████████               | 163kB 10.5MB/s eta 0:00:01\r\u001b[K     |██████████████████              | 174kB 10.5MB/s eta 0:00:01\r\u001b[K     |███████████████████             | 184kB 10.5MB/s eta 0:00:01\r\u001b[K     |████████████████████▏           | 194kB 10.5MB/s eta 0:00:01\r\u001b[K     |█████████████████████▎          | 204kB 10.5MB/s eta 0:00:01\r\u001b[K     |██████████████████████▎         | 215kB 10.5MB/s eta 0:00:01\r\u001b[K     |███████████████████████▍        | 225kB 10.5MB/s eta 0:00:01\r\u001b[K     |████████████████████████▍       | 235kB 10.5MB/s eta 0:00:01\r\u001b[K     |█████████████████████████▌      | 245kB 10.5MB/s eta 0:00:01\r\u001b[K     |██████████████████████████▌     | 256kB 10.5MB/s eta 0:00:01\r\u001b[K     |███████████████████████████▋    | 266kB 10.5MB/s eta 0:00:01\r\u001b[K     |████████████████████████████▋   | 276kB 10.5MB/s eta 0:00:01\r\u001b[K     |█████████████████████████████▊  | 286kB 10.5MB/s eta 0:00:01\r\u001b[K     |██████████████████████████████▊ | 296kB 10.5MB/s eta 0:00:01\r\u001b[K     |███████████████████████████████▉| 307kB 10.5MB/s eta 0:00:01\r\u001b[K     |████████████████████████████████| 317kB 10.5MB/s \n",
            "\u001b[?25hRequirement already satisfied: numpy in /usr/local/lib/python3.6/dist-packages (from tensorboardX) (1.18.5)\n",
            "Requirement already satisfied: six in /usr/local/lib/python3.6/dist-packages (from tensorboardX) (1.15.0)\n",
            "Requirement already satisfied: protobuf>=3.8.0 in /usr/local/lib/python3.6/dist-packages (from tensorboardX) (3.12.4)\n",
            "Requirement already satisfied: setuptools in /usr/local/lib/python3.6/dist-packages (from protobuf>=3.8.0->tensorboardX) (50.3.0)\n",
            "Installing collected packages: tensorboardX\n",
            "Successfully installed tensorboardX-2.1\n"
          ],
          "name": "stdout"
        }
      ]
    },
    {
      "cell_type": "code",
      "metadata": {
        "id": "glN7cs6vsc_R"
      },
      "source": [
        "!python train_im2latex.py --num_epochs 100 --learning_rate 0.0001 --img_height 160 --img_width 500"
      ],
      "execution_count": null,
      "outputs": []
    },
    {
      "cell_type": "code",
      "metadata": {
        "id": "G24wRwNKLuFI"
      },
      "source": [
        "!python train_im2latex.py --num_epochs 20 --learning_rate 0.001 --teaching_forcing_prob 0.0"
      ],
      "execution_count": null,
      "outputs": []
    },
    {
      "cell_type": "code",
      "metadata": {
        "id": "_cn-rzQSQnRB",
        "outputId": "e67d41b0-ac8c-4bfe-b07c-c3a3fea34e02",
        "colab": {
          "base_uri": "https://localhost:8080/",
          "height": 121
        }
      },
      "source": [
        "!python train_im2latex_for_seq2seq_3d.py --num_epochs 2"
      ],
      "execution_count": 5,
      "outputs": [
        {
          "output_type": "stream",
          "text": [
            "Traceback (most recent call last):\n",
            "  File \"train_im2latex_for_seq2seq_3d.py\", line 23, in <module>\n",
            "    import crnn.seq2seq_3d_version as S2S\n",
            "  File \"/content/crnn_seq2seq_ocr_pytorch/crnn/seq2seq_3d_version.py\", line 10, in <module>\n",
            "    from torchtext.data.metrics import bleu_score\n",
            "ModuleNotFoundError: No module named 'torchtext.data.metrics'\n"
          ],
          "name": "stdout"
        }
      ]
    }
  ]
}