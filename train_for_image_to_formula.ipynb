{
  "nbformat": 4,
  "nbformat_minor": 0,
  "metadata": {
    "kernelspec": {
      "display_name": "Python 3",
      "language": "python",
      "name": "python3"
    },
    "language_info": {
      "codemirror_mode": {
        "name": "ipython",
        "version": 3
      },
      "file_extension": ".py",
      "mimetype": "text/x-python",
      "name": "python",
      "nbconvert_exporter": "python",
      "pygments_lexer": "ipython3",
      "version": "3.8.2"
    },
    "colab": {
      "name": "1 - Sequence to Sequence Learning with Neural Networks.ipynb",
      "provenance": [],
      "include_colab_link": true
    },
    "accelerator": "GPU"
  },
  "cells": [
    {
      "cell_type": "markdown",
      "metadata": {
        "id": "view-in-github",
        "colab_type": "text"
      },
      "source": [
        "<a href=\"https://colab.research.google.com/github/vasiliyeskin/crnn_seq2seq_ocr_pytorch/blob/master/train_for_image_to_formula.ipynb\" target=\"_parent\"><img src=\"https://colab.research.google.com/assets/colab-badge.svg\" alt=\"Open In Colab\"/></a>"
      ]
    },
    {
      "cell_type": "code",
      "metadata": {
        "id": "79WptoUd7asD",
        "outputId": "4af27772-64fb-4540-91b9-fd1e5ad3c332",
        "colab": {
          "base_uri": "https://localhost:8080/",
          "height": 34
        }
      },
      "source": [
        "!git clone https://github.com/vasiliyeskin/crnn_seq2seq_ocr_pytorch.git"
      ],
      "execution_count": 2,
      "outputs": [
        {
          "output_type": "stream",
          "text": [
            "fatal: destination path 'crnn_seq2seq_ocr_pytorch' already exists and is not an empty directory.\n"
          ],
          "name": "stdout"
        }
      ]
    },
    {
      "cell_type": "code",
      "metadata": {
        "id": "ITDpQNRCK6TX",
        "outputId": "197f9182-c30f-4c79-9643-3ba154853bee",
        "colab": {
          "base_uri": "https://localhost:8080/",
          "height": 34
        }
      },
      "source": [
        "%cd crnn_seq2seq_ocr_pytorch"
      ],
      "execution_count": 3,
      "outputs": [
        {
          "output_type": "stream",
          "text": [
            "/content/crnn_seq2seq_ocr_pytorch\n"
          ],
          "name": "stdout"
        }
      ]
    },
    {
      "cell_type": "code",
      "metadata": {
        "id": "X5yRjYgRLr1q",
        "outputId": "4a109b21-bcb3-446c-d15b-0605ff599ab9",
        "colab": {
          "base_uri": "https://localhost:8080/",
          "height": 69
        }
      },
      "source": [
        "!ls"
      ],
      "execution_count": 4,
      "outputs": [
        {
          "output_type": "stream",
          "text": [
            "crnn\t      model\t\tsrc\t\t\t\t  train.py\n",
            "data\t      README.md\t\ttrain_for_image_to_formula.ipynb\n",
            "inference.py  requirements.txt\ttrain_im2latex.py\n"
          ],
          "name": "stdout"
        }
      ]
    },
    {
      "cell_type": "code",
      "metadata": {
        "id": "p8ZKrkvskqfw",
        "outputId": "47769686-33d0-4194-daae-fd728b0f04f9",
        "colab": {
          "base_uri": "https://localhost:8080/",
          "height": 173
        }
      },
      "source": [
        "!pip install tensorboardX"
      ],
      "execution_count": 5,
      "outputs": [
        {
          "output_type": "stream",
          "text": [
            "Collecting tensorboardX\n",
            "\u001b[?25l  Downloading https://files.pythonhosted.org/packages/af/0c/4f41bcd45db376e6fe5c619c01100e9b7531c55791b7244815bac6eac32c/tensorboardX-2.1-py2.py3-none-any.whl (308kB)\n",
            "\r\u001b[K     |█                               | 10kB 24.5MB/s eta 0:00:01\r\u001b[K     |██▏                             | 20kB 2.9MB/s eta 0:00:01\r\u001b[K     |███▏                            | 30kB 3.9MB/s eta 0:00:01\r\u001b[K     |████▎                           | 40kB 4.2MB/s eta 0:00:01\r\u001b[K     |█████▎                          | 51kB 3.4MB/s eta 0:00:01\r\u001b[K     |██████▍                         | 61kB 3.9MB/s eta 0:00:01\r\u001b[K     |███████▍                        | 71kB 4.3MB/s eta 0:00:01\r\u001b[K     |████████▌                       | 81kB 4.5MB/s eta 0:00:01\r\u001b[K     |█████████▌                      | 92kB 4.8MB/s eta 0:00:01\r\u001b[K     |██████████▋                     | 102kB 4.7MB/s eta 0:00:01\r\u001b[K     |███████████▊                    | 112kB 4.7MB/s eta 0:00:01\r\u001b[K     |████████████▊                   | 122kB 4.7MB/s eta 0:00:01\r\u001b[K     |█████████████▉                  | 133kB 4.7MB/s eta 0:00:01\r\u001b[K     |██████████████▉                 | 143kB 4.7MB/s eta 0:00:01\r\u001b[K     |████████████████                | 153kB 4.7MB/s eta 0:00:01\r\u001b[K     |█████████████████               | 163kB 4.7MB/s eta 0:00:01\r\u001b[K     |██████████████████              | 174kB 4.7MB/s eta 0:00:01\r\u001b[K     |███████████████████             | 184kB 4.7MB/s eta 0:00:01\r\u001b[K     |████████████████████▏           | 194kB 4.7MB/s eta 0:00:01\r\u001b[K     |█████████████████████▎          | 204kB 4.7MB/s eta 0:00:01\r\u001b[K     |██████████████████████▎         | 215kB 4.7MB/s eta 0:00:01\r\u001b[K     |███████████████████████▍        | 225kB 4.7MB/s eta 0:00:01\r\u001b[K     |████████████████████████▍       | 235kB 4.7MB/s eta 0:00:01\r\u001b[K     |█████████████████████████▌      | 245kB 4.7MB/s eta 0:00:01\r\u001b[K     |██████████████████████████▌     | 256kB 4.7MB/s eta 0:00:01\r\u001b[K     |███████████████████████████▋    | 266kB 4.7MB/s eta 0:00:01\r\u001b[K     |████████████████████████████▋   | 276kB 4.7MB/s eta 0:00:01\r\u001b[K     |█████████████████████████████▊  | 286kB 4.7MB/s eta 0:00:01\r\u001b[K     |██████████████████████████████▊ | 296kB 4.7MB/s eta 0:00:01\r\u001b[K     |███████████████████████████████▉| 307kB 4.7MB/s eta 0:00:01\r\u001b[K     |████████████████████████████████| 317kB 4.7MB/s \n",
            "\u001b[?25hRequirement already satisfied: protobuf>=3.8.0 in /usr/local/lib/python3.6/dist-packages (from tensorboardX) (3.12.4)\n",
            "Requirement already satisfied: six in /usr/local/lib/python3.6/dist-packages (from tensorboardX) (1.15.0)\n",
            "Requirement already satisfied: numpy in /usr/local/lib/python3.6/dist-packages (from tensorboardX) (1.18.5)\n",
            "Requirement already satisfied: setuptools in /usr/local/lib/python3.6/dist-packages (from protobuf>=3.8.0->tensorboardX) (50.3.0)\n",
            "Installing collected packages: tensorboardX\n",
            "Successfully installed tensorboardX-2.1\n"
          ],
          "name": "stdout"
        }
      ]
    },
    {
      "cell_type": "code",
      "metadata": {
        "id": "glN7cs6vsc_R"
      },
      "source": [
        "!python train_im2latex.py --num_epochs 2 --learning_rate 0.0001 --img_height 160 --img_width 500"
      ],
      "execution_count": null,
      "outputs": []
    },
    {
      "cell_type": "code",
      "metadata": {
        "id": "G24wRwNKLuFI",
        "outputId": "cc1a2363-8f7a-4d2f-8d84-c20db119abc5",
        "colab": {
          "base_uri": "https://localhost:8080/",
          "height": 1000
        }
      },
      "source": [
        "!python train_im2latex.py --num_epochs 2"
      ],
      "execution_count": 9,
      "outputs": [
        {
          "output_type": "stream",
          "text": [
            "Namespace(batch_size=32, decoder='', encoder='', eval_list='data/sample/validate_filter.lst', hidden_size=256, img_height=32, img_width=280, learning_rate=0.0001, max_width=71, model='./model/im2latex/', num_epochs=2, num_workers=4, random_sample=True, teaching_forcing_prob=0.5, train_list='data/sample/train_filter.lst')\n",
            "Encoder(\n",
            "  (cnn): CNN(\n",
            "    (cnn): Sequential(\n",
            "      (0): Conv2d(3, 64, kernel_size=(3, 3), stride=(1, 1), padding=(1, 1))\n",
            "      (1): ReLU(inplace=True)\n",
            "      (2): MaxPool2d(kernel_size=2, stride=2, padding=0, dilation=1, ceil_mode=False)\n",
            "      (3): Conv2d(64, 128, kernel_size=(3, 3), stride=(1, 1), padding=(1, 1))\n",
            "      (4): ReLU(inplace=True)\n",
            "      (5): MaxPool2d(kernel_size=2, stride=2, padding=0, dilation=1, ceil_mode=False)\n",
            "      (6): Conv2d(128, 256, kernel_size=(3, 3), stride=(1, 1), padding=(1, 1))\n",
            "      (7): BatchNorm2d(256, eps=1e-05, momentum=0.1, affine=True, track_running_stats=True)\n",
            "      (8): ReLU(inplace=True)\n",
            "      (9): Conv2d(256, 256, kernel_size=(3, 3), stride=(1, 1), padding=(1, 1))\n",
            "      (10): ReLU(inplace=True)\n",
            "      (11): MaxPool2d(kernel_size=(2, 2), stride=(2, 1), padding=(0, 1), dilation=1, ceil_mode=False)\n",
            "      (12): Conv2d(256, 512, kernel_size=(3, 3), stride=(1, 1), padding=(1, 1))\n",
            "      (13): BatchNorm2d(512, eps=1e-05, momentum=0.1, affine=True, track_running_stats=True)\n",
            "      (14): ReLU(inplace=True)\n",
            "      (15): Conv2d(512, 512, kernel_size=(3, 3), stride=(1, 1), padding=(1, 1))\n",
            "      (16): ReLU(inplace=True)\n",
            "      (17): MaxPool2d(kernel_size=(2, 2), stride=(2, 1), padding=(0, 1), dilation=1, ceil_mode=False)\n",
            "      (18): Conv2d(512, 512, kernel_size=(2, 2), stride=(1, 1))\n",
            "      (19): BatchNorm2d(512, eps=1e-05, momentum=0.1, affine=True, track_running_stats=True)\n",
            "      (20): ReLU(inplace=True)\n",
            "    )\n",
            "  )\n",
            "  (rnn): Sequential(\n",
            "    (0): BidirectionalLSTM(\n",
            "      (rnn): LSTM(512, 256, bidirectional=True)\n",
            "      (embedding): Linear(in_features=512, out_features=256, bias=True)\n",
            "    )\n",
            "    (1): BidirectionalLSTM(\n",
            "      (rnn): LSTM(256, 256, bidirectional=True)\n",
            "      (embedding): Linear(in_features=512, out_features=256, bias=True)\n",
            "    )\n",
            "  )\n",
            ")\n",
            "Decoder(\n",
            "  (decoder): AttnDecoderRNN(\n",
            "    (embedding): Embedding(255, 256)\n",
            "    (attn): Linear(in_features=512, out_features=71, bias=True)\n",
            "    (attn_combine): Linear(in_features=512, out_features=256, bias=True)\n",
            "    (dropout): Dropout(p=0.1, inplace=False)\n",
            "    (gru): GRU(256, 256)\n",
            "    (out): Linear(in_features=256, out_features=255, bias=True)\n",
            "  )\n",
            ")\n",
            "[Epoch 1/2] [Batch 1/29] Loss: 664.5670166015625\n",
            "[Epoch 1/2] [Batch 2/29] Loss: 722.5151977539062\n",
            "[Epoch 1/2] [Batch 3/29] Loss: 726.7289428710938\n",
            "[Epoch 1/2] [Batch 4/29] Loss: 740.05078125\n",
            "[Epoch 1/2] [Batch 5/29] Loss: 679.3854370117188\n",
            "[Epoch 1/2] [Batch 6/29] Loss: 721.4453735351562\n",
            "[Epoch 1/2] [Batch 7/29] Loss: 620.9739379882812\n",
            "[Epoch 1/2] [Batch 8/29] Loss: 724.4379272460938\n",
            "[Epoch 1/2] [Batch 9/29] Loss: 587.57177734375\n",
            "[Epoch 1/2] [Batch 10/29] Loss: 660.6268920898438\n",
            "[Epoch 1/2] [Batch 11/29] Loss: 623.1031494140625\n",
            "[Epoch 1/2] [Batch 12/29] Loss: 543.9830932617188\n",
            "[Epoch 1/2] [Batch 13/29] Loss: 533.4981079101562\n",
            "[Epoch 1/2] [Batch 14/29] Loss: 479.3059387207031\n",
            "[Epoch 1/2] [Batch 15/29] Loss: 381.9808349609375\n",
            "[Epoch 1/2] [Batch 16/29] Loss: 460.66876220703125\n",
            "[Epoch 1/2] [Batch 17/29] Loss: 399.2495422363281\n",
            "[Epoch 1/2] [Batch 18/29] Loss: 381.8228759765625\n",
            "[Epoch 1/2] [Batch 19/29] Loss: 395.6415710449219\n",
            "[Epoch 1/2] [Batch 20/29] Loss: 362.2081298828125\n",
            "[Epoch 1/2] [Batch 21/29] Loss: 371.0250244140625\n",
            "[Epoch 1/2] [Batch 22/29] Loss: 344.5716552734375\n",
            "[Epoch 1/2] [Batch 23/29] Loss: 359.1339416503906\n",
            "[Epoch 1/2] [Batch 24/29] Loss: 328.97650146484375\n",
            "[Epoch 1/2] [Batch 25/29] Loss: 325.73321533203125\n",
            "[Epoch 1/2] [Batch 26/29] Loss: 349.3049621582031\n",
            "[Epoch 1/2] [Batch 27/29] Loss: 374.0638122558594\n",
            "[Epoch 1/2] [Batch 28/29] Loss: 305.72869873046875\n",
            "[Epoch 1/2] [Batch 29/29] Loss: 109.43266296386719\n",
            "[Epoch 2/2] [Batch 1/29] Loss: 284.2403564453125\n",
            "[Epoch 2/2] [Batch 2/29] Loss: 390.8985900878906\n",
            "[Epoch 2/2] [Batch 3/29] Loss: 375.75567626953125\n",
            "[Epoch 2/2] [Batch 4/29] Loss: 293.185302734375\n",
            "[Epoch 2/2] [Batch 5/29] Loss: 322.5191955566406\n",
            "[Epoch 2/2] [Batch 6/29] Loss: 306.0018310546875\n",
            "[Epoch 2/2] [Batch 7/29] Loss: 321.8714904785156\n",
            "[Epoch 2/2] [Batch 8/29] Loss: 326.24774169921875\n",
            "[Epoch 2/2] [Batch 9/29] Loss: 289.56951904296875\n",
            "[Epoch 2/2] [Batch 10/29] Loss: 312.3212585449219\n",
            "[Epoch 2/2] [Batch 11/29] Loss: 310.9246826171875\n",
            "[Epoch 2/2] [Batch 12/29] Loss: 323.64849853515625\n",
            "[Epoch 2/2] [Batch 13/29] Loss: 323.2273254394531\n",
            "[Epoch 2/2] [Batch 14/29] Loss: 275.00421142578125\n",
            "[Epoch 2/2] [Batch 15/29] Loss: 353.10504150390625\n",
            "[Epoch 2/2] [Batch 16/29] Loss: 264.655029296875\n",
            "[Epoch 2/2] [Batch 17/29] Loss: 326.412353515625\n",
            "[Epoch 2/2] [Batch 18/29] Loss: 290.6040344238281\n",
            "[Epoch 2/2] [Batch 19/29] Loss: 339.4364013671875\n",
            "[Epoch 2/2] [Batch 20/29] Loss: 312.66070556640625\n",
            "[Epoch 2/2] [Batch 21/29] Loss: 306.7630310058594\n",
            "[Epoch 2/2] [Batch 22/29] Loss: 319.9133605957031\n",
            "[Epoch 2/2] [Batch 23/29] Loss: 314.07568359375\n",
            "[Epoch 2/2] [Batch 24/29] Loss: 256.6435241699219\n",
            "[Epoch 2/2] [Batch 25/29] Loss: 312.6165771484375\n",
            "[Epoch 2/2] [Batch 26/29] Loss: 268.40106201171875\n",
            "[Epoch 2/2] [Batch 27/29] Loss: 296.0587463378906\n",
            "[Epoch 2/2] [Batch 28/29] Loss: 224.1493377685547\n",
            "[Epoch 2/2] [Batch 29/29] Loss: 241.64735412597656\n",
            "pred 0: {{{{{{{{{{{{{{{{{{{{{{{{{{{{{{{{{{{{{{{{{{{{{{{{{{{{{{{{{{{{{{{{{{{{{{{{{{{{{{{{{{{{{!!!!!!!!!!!!!!!!!!!!!!!!!!!!\n",
            "gt 0: \\int _ { - \\epsilon } ^ { \\infty } d l \\: \\mathrm { e } ^ { - l \\zeta } \\int _ { - \\epsilon } ^ { \\infty } d l ^ { \\prime } \\mathrm { e } ^ { - l ^ { \\prime } \\zeta } l l ^ { \\prime } { \\frac { l ^ { \\prime } - l } { l + l ^ { \\prime } } } \\{ 3 \\, \\delta ^ { \\prime \\prime } ( l ) - { \\frac { 3 } { 4 } } t \\, \\delta ( l ) \\} = 0 .\n",
            "pred 10: {{{{{{{{{{{{{{{{{{{{{{{{{{{{{{{{{{{{\n",
            "gt 10: \\varphi ^ { \\prime \\prime } + { \\frac { 1 } { r } } \\varphi ^ { \\prime } + \\lambda \\left( \\varphi - \\varphi ^ { 3 } \\right) = 0 ,\n",
            "pred 20: {{{{{{{{{{{{{{{{{{{{{{{{{{{{{{{{{{{{{{{{{{{{{{{{{{{\n",
            "gt 20: ( R _ { a b } R ^ { a b } - \\frac { n } { 4 ( n - 1 ) } R ^ { 2 } ) \\phi ^ { \\frac { 2 ( n - 4 ) } { n - 2 } }\n",
            "pred 30: {{{{{{{{{{{{{{{{{{{{{{{{{{{{{{{{{{{{{{{{{\n",
            "gt 30: { \\frac { \\partial \\bar { g } _ { \\mu \\nu } } { \\partial l _ { i } } } \\in \\mathrm { K e r } ( \\bar { F } ^ { \\dagger } )\n",
            "pred 40: {{{{{{{{{{{{{{{{{{{{{{{{{{{{{{{{{{{{{{{{\n",
            "gt 40: \\Phi ^ { i } = \\frac { 1 } { 2 } \\pi ^ { i } - \\int d u \\; \\; \\epsilon ( x - u ) \\; \\theta ^ { i } ( u )\n",
            "pred 50: {{{{{{{{{{{{{{{{{{{{{{{{{{{{{{{{{\n",
            "gt 50: M _ { P } ^ { 2 } = M _ { s } ^ { 3 } \\int d z e ^ { - 2 \\sigma ( z ) }\n",
            "pred 60: {{{{{{{{{{{{{{{{{{{{{{{{{{{{{{{{{{{{{{{{{{{{{{{{{{{{{{{{{{{{{{{{{{{{{{{{{\n",
            "gt 60: m _ { C } ^ { 2 } = \\langle g ^ { 2 } A _ { \\mu } ^ { a } A _ { \\mu } ^ { a } \\rangle + \\left( { \\frac { 1 } { 2 } } \\alpha + \\beta \\right) \\langle i g ^ { 2 } \\bar { C } ^ { a } C ^ { a } \\rangle .\n",
            "pred 70: {{{{{{{{{{{{{{{{{{{{{{{{{{{{{{{{{{{{{\n",
            "gt 70: J ( x , y , M ) = \\mathrm { t r } \\left\\langle x \\left| \\Gamma _ { 5 } \\Gamma \\frac { 1 } { \\Theta + M } \\right| y \\right\\rangle .\n",
            "pred 80: {{{{{{{{{{{{{{{{{{{{{{{{{{{{{{{{{{{{{{{{{{{{{{{{{{{{{{{{{{{{{{{{{{{{{{{{{{{{{{{{{{{{{!!!!\n",
            "gt 80: \\int _ { - \\infty } ^ { \\infty } \\frac { d x } { ( \\gamma + x ^ { 2 } ) ( \\delta + x ^ { 2 } ) } = \\frac { \\pi } { \\sqrt { \\gamma \\delta } ( \\sqrt { \\gamma } + \\sqrt { \\delta } ) } = \\frac { \\pi } { \\sqrt { \\gamma \\delta } } \\frac { \\sqrt { \\delta } - \\sqrt { \\gamma } } { \\delta - \\gamma } ,\n",
            "Test loss: 0, accuray: 0.058354039605451394\n"
          ],
          "name": "stdout"
        }
      ]
    }
  ]
}